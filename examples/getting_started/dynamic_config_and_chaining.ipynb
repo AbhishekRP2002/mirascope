{
 "cells": [
  {
   "cell_type": "markdown",
   "metadata": {},
   "source": [
    "# Dynamic Configuration and Chaining in Mirascope\n",
    "\n",
    "This notebook provides a detailed introduction to using Dynamic Configuration and Chaining in Mirascope. We'll cover various examples ranging from basic usage to more complex chaining techniques.\n",
    "\n",
    "For more information on these topics, refer to the following documentation:\n",
    "- [Dynamic Configuration](https://docs.mirascope.io/learn/dynamic_configuration/)\n",
    "- [Chaining](https://docs.mirascope.io/learn/chaining/)\n",
    "\n",
    "1. [Setup](#Setup)\n",
    "2. [Dynamic Configuration](#Dynamic-Configuration)\n",
    "   - [Basic Usage](#Basic-Usage)\n",
    "   - [Computed Fields](#Computed-Fields)\n",
    "   - [Dynamic Tools](#Dynamic-Tools)\n",
    "3. [Chaining](#Chaining)\n",
    "   - [Basic Chaining](#Basic-Chaining)\n",
    "   - [Chaining with Computed Fields](#Chaining-with-Computed-Fields)\n",
    "   - [Multi-Step Chaining](#Multi-Step-Chaining)\n",
    "   - [Conditional Chaining](#Conditional-Chaining)\n",
    "   - [Parallel Chaining](#Parallel-Chaining)\n",
    "4. [Advanced Techniques](#Advanced-Techniques)\n",
    "   - [Combining Dynamic Config and Chaining](#Combining-Dynamic-Config-and-Chaining)\n",
    "   - [Error Handling in Chains](#Error-Handling-in-Chains)\n",
    "5. [Conclusion](#Conclusion)"
   ]
  },
  {
   "cell_type": "markdown",
   "metadata": {},
   "source": [
    "## Setup\n",
    "\n",
    "First, let's install Mirascope and set up our environment. We'll use OpenAI for our examples, but you can adapt these to other providers supported by Mirascope. For more information on supported providers, see the [Calls documentation](https://docs.mirascope.io/learn/calls/)."
   ]
  },
  {
   "cell_type": "code",
   "execution_count": null,
   "metadata": {},
   "outputs": [],
   "source": [
    "!pip install \"mirascope[openai]\""
   ]
  },
  {
   "cell_type": "code",
   "execution_count": null,
   "metadata": {},
   "outputs": [],
   "source": [
    "import os\n",
    "\n",
    "os.environ[\"OPENAI_API_KEY\"] = \"your-api-key-here\""
   ]
  },
  {
   "cell_type": "markdown",
   "metadata": {},
   "source": [
    "## Dynamic Configuration\n",
    "\n",
    "Dynamic Configuration in Mirascope allows you to modify the behavior of LLM calls at runtime based on input arguments or other conditions. For more details, see the [Dynamic Configuration documentation](https://docs.mirascope.io/learn/dynamic_configuration/).\n",
    "\n",
    "### Basic Usage"
   ]
  },
  {
   "cell_type": "code",
   "execution_count": 1,
   "metadata": {
    "ExecuteTime": {
     "end_time": "2024-09-10T04:44:08.514615Z",
     "start_time": "2024-09-10T04:44:05.812702Z"
    }
   },
   "outputs": [
    {
     "name": "stdout",
     "output_type": "stream",
     "text": [
      "Low creativity: I recommend \"The Girl with the Dragon Tattoo\" by Stieg Larsson. This gripping mystery novel follows journalist Mikael Blomkvist and hacker Lisbeth Salander as they investigate the decades-old disappearance of a wealthy industrialist's niece. The story is filled with twists, complex characters, and a deep exploration of themes such as corruption and family secrets. It's the first book in the Millennium series and has captivated readers with its intricate plot and engaging writing. Enjoy the read!\n",
      "High creativity: I recommend \"The Girl with the Dragon Tattoo\" by Stieg Larsson. This gripping mystery follows journalist Mikael Blomkvist and hacker Lisbeth Salander as they investigate the decades-old disappearance of a young woman from a powerful family. With its complex characters, intricate plot, and dark themes, it’s a compelling read that keeps you guessing until the very end. Enjoy!\n"
     ]
    }
   ],
   "source": [
    "from mirascope.core import openai, prompt_template\n",
    "\n",
    "\n",
    "@openai.call(\"gpt-4o-mini\")\n",
    "@prompt_template(\"Recommend a {genre} book\")\n",
    "def recommend_book(genre: str, creativity: float) -> openai.OpenAIDynamicConfig:\n",
    "    return {\"call_params\": {\"temperature\": creativity}}\n",
    "\n",
    "\n",
    "# Low creativity recommendation\n",
    "response = recommend_book(\"mystery\", 0.2)\n",
    "print(\"Low creativity:\", response.content)\n",
    "\n",
    "# High creativity recommendation\n",
    "response = recommend_book(\"mystery\", 0.8)\n",
    "print(\"High creativity:\", response.content)"
   ]
  },
  {
   "cell_type": "markdown",
   "metadata": {},
   "source": [
    "### Computed Fields\n",
    "\n",
    "Computed fields allow you to dynamically generate or modify template variables used in your prompt. For more information on prompt templates, see the [Prompts documentation](https://docs.mirascope.io/learn/prompts/)."
   ]
  },
  {
   "cell_type": "code",
   "execution_count": 1,
   "metadata": {
    "ExecuteTime": {
     "end_time": "2024-09-10T04:44:12.163281Z",
     "start_time": "2024-09-10T04:44:11.065965Z"
    }
   },
   "outputs": [
    {
     "name": "stdout",
     "output_type": "stream",
     "text": [
      "I recommend **\"The Cruel Prince\" by Holly Black**. It's a captivating young adult fantasy that follows Jude, a mortal girl living in the treacherous world of Faerie. The story is filled with political intrigue, betrayal, and magic, as Jude navigates her place among the powerful fae, all while trying to prove herself worthy of a role in their world. The book is the first in \"The Folk of the Air\" trilogy, offering an engaging blend of adventure and romance that appeals to young adult readers.\n"
     ]
    }
   ],
   "source": [
    "@openai.call(\"gpt-4o-mini\")\n",
    "@prompt_template(\"Recommend a {genre} book with a reading level of {reading_level}\")\n",
    "def recommend_book_by_age(genre: str, age: int) -> openai.OpenAIDynamicConfig:\n",
    "    reading_level = \"adult\"\n",
    "    if age < 12:\n",
    "        reading_level = \"elementary\"\n",
    "    elif age < 18:\n",
    "        reading_level = \"young adult\"\n",
    "    return {\"computed_fields\": {\"reading_level\": reading_level}}\n",
    "\n",
    "\n",
    "response = recommend_book_by_age(\"fantasy\", 15)\n",
    "print(response.content)"
   ]
  },
  {
   "cell_type": "markdown",
   "metadata": {},
   "source": [
    "### Dynamic Tools\n",
    "\n",
    "You can dynamically configure which tools are available to the LLM based on runtime conditions."
   ]
  },
  {
   "cell_type": "code",
   "execution_count": 1,
   "metadata": {
    "ExecuteTime": {
     "end_time": "2024-09-10T04:44:16.869524Z",
     "start_time": "2024-09-10T04:44:15.618839Z"
    }
   },
   "outputs": [
    {
     "name": "stdout",
     "output_type": "stream",
     "text": [
      "The Girl with the Dragon Tattoo by Stieg Larsson (mystery)\n"
     ]
    }
   ],
   "source": [
    "from mirascope.core import BaseToolKit, toolkit_tool\n",
    "\n",
    "\n",
    "class BookToolkit(BaseToolKit):\n",
    "    genre: str\n",
    "\n",
    "    @toolkit_tool\n",
    "    def format_book(self, title: str, author: str) -> str:\n",
    "        \"\"\"Format a {self.genre} book recommendation.\"\"\"\n",
    "        return f\"{title} by {author} ({self.genre})\"\n",
    "\n",
    "\n",
    "@openai.call(\"gpt-4o-mini\")\n",
    "@prompt_template(\"Recommend a {genre} book\")\n",
    "def recommend_book_with_tool(genre: str) -> openai.OpenAIDynamicConfig:\n",
    "    toolkit = BookToolkit(genre=genre)\n",
    "    return {\"tools\": toolkit.create_tools()}\n",
    "\n",
    "\n",
    "response = recommend_book_with_tool(\"mystery\")\n",
    "if response.tool:\n",
    "    print(response.tool.call())\n",
    "else:\n",
    "    print(response.content)"
   ]
  },
  {
   "cell_type": "markdown",
   "metadata": {},
   "source": [
    "## Chaining\n",
    "\n",
    "Chaining in Mirascope allows you to combine multiple LLM calls or operations in a sequence to solve complex tasks.\n",
    "\n",
    "### Basic Chaining"
   ]
  },
  {
   "cell_type": "code",
   "execution_count": 1,
   "metadata": {
    "ExecuteTime": {
     "end_time": "2024-09-10T04:44:21.079054Z",
     "start_time": "2024-09-10T04:44:19.703507Z"
    }
   },
   "outputs": [
    {
     "name": "stdout",
     "output_type": "stream",
     "text": [
      "Veuillez fournir le texte que vous souhaitez résumer, et je serai heureux de vous aider !\n"
     ]
    }
   ],
   "source": [
    "@openai.call(\"gpt-4o-mini\")\n",
    "@prompt_template(\"Summarize this text: {text}\")\n",
    "def summarize(text: str): ...\n",
    "\n",
    "\n",
    "@openai.call(\"gpt-4o-mini\")\n",
    "@prompt_template(\"Translate this text to {language}: {text}\")\n",
    "def translate(text: str, language: str): ...\n",
    "\n",
    "\n",
    "original_text = \"Long English text here...\"\n",
    "summary = summarize(original_text)\n",
    "translation = translate(summary.content, \"french\")\n",
    "print(translation.content)"
   ]
  },
  {
   "cell_type": "markdown",
   "metadata": {},
   "source": [
    "### Chaining with Computed Fields\n",
    "\n",
    "Using computed fields for chaining provides better traceability and debugging capabilities."
   ]
  },
  {
   "cell_type": "code",
   "execution_count": 1,
   "metadata": {
    "ExecuteTime": {
     "end_time": "2024-09-10T04:44:23.621682Z",
     "start_time": "2024-09-10T04:44:22.747315Z"
    }
   },
   "outputs": [
    {
     "name": "stdout",
     "output_type": "stream",
     "text": [
      "Bien sûr ! Veuillez fournir le texte que vous souhaitez que je résume.\n",
      "\n",
      "Computed fields: {'summary': OpenAICallResponse(metadata={}, response=ChatCompletion(id='chatcmpl-A5n1iB4auyKOofKmGbUJ3Y6y78Ivx', choices=[Choice(finish_reason='stop', index=0, logprobs=None, message=ChatCompletionMessage(content=\"Sure! Please provide the text you'd like me to summarize.\", refusal=None, role='assistant', function_call=None, tool_calls=None))], created=1725943462, model='gpt-4o-mini-2024-07-18', object='chat.completion', service_tier=None, system_fingerprint='fp_483d39d857', usage=CompletionUsage(completion_tokens=12, prompt_tokens=18, total_tokens=30)), tool_types=None, prompt_template='Summarize this text: {text}', fn_args={'text': 'Long English text here...'}, dynamic_config=None, messages=[{'role': 'user', 'content': 'Summarize this text: Long English text here...'}], call_params={}, call_kwargs={'model': 'gpt-4o-mini', 'messages': [{'role': 'user', 'content': 'Summarize this text: Long English text here...'}]}, user_message_param={'content': 'Summarize this text: Long English text here...', 'role': 'user'}, start_time=1725943462764.3699, end_time=1725943463185.938, message_param={'content': \"Sure! Please provide the text you'd like me to summarize.\", 'refusal': None, 'role': 'assistant', 'tool_calls': None}, tools=None, tool=None)}\n"
     ]
    }
   ],
   "source": [
    "@openai.call(\"gpt-4o-mini\")\n",
    "@prompt_template(\"Summarize this text: {text}\")\n",
    "def summarize(text: str): ...\n",
    "\n",
    "\n",
    "@openai.call(\"gpt-4o-mini\")\n",
    "@prompt_template(\"Translate this text to {language}: {summary}\")\n",
    "def summarize_and_translate(text: str, language: str) -> openai.OpenAIDynamicConfig:\n",
    "    return {\"computed_fields\": {\"summary\": summarize(text)}}\n",
    "\n",
    "\n",
    "response = summarize_and_translate(\"Long English text here...\", \"french\")\n",
    "print(response.content)\n",
    "print(\"\\nComputed fields:\", response.dynamic_config[\"computed_fields\"])"
   ]
  },
  {
   "cell_type": "markdown",
   "metadata": {},
   "source": [
    "### Multi-Step Chaining\n",
    "\n",
    "Let's create a more complex chain that involves multiple steps."
   ]
  },
  {
   "cell_type": "code",
   "execution_count": 1,
   "metadata": {
    "ExecuteTime": {
     "end_time": "2024-09-10T04:44:46.449Z",
     "start_time": "2024-09-10T04:44:27.673806Z"
    }
   },
   "outputs": [
    {
     "name": "stdout",
     "output_type": "stream",
     "text": [
      "Analysis: The summary and translation provided are effective for several reasons:\n",
      "\n",
      "### Summary Analysis:\n",
      "1. **Conciseness**: The summary captures the essential elements of the original story without extraneous details. It succinctly conveys the main plot points, including the discovery of the ancient space station, the encounter with the Xylthari civilization, and the resolution of the conflict.\n",
      "\n",
      "2. **Clarity**: The language is clear and straightforward, making it easy for readers to understand the core narrative. Key characters, actions, and themes are presented in a way that maintains the story's integrity.\n",
      "\n",
      "3. **Character and Theme**: The summary effectively conveys the motivations of Captain Elara Quinn and the significance of the crew's decision to free the trapped phantoms, emphasizing themes of empathy, sacrifice, and exploration.\n",
      "\n",
      "### Translation Analysis:\n",
      "1. **Accurate Vocabulary**: The translation accurately reflects the original summary's vocabulary and tone, using appropriate terms in Spanish that correspond to the English text. Key terms such as \"nave espacial,\" \"estación espacial,\" and \"civilización\" are correctly translated.\n",
      "\n",
      "2. **Preservation of Meaning**: The translated summary preserves the meaning and intent of the original. It captures the narrative arc and emotional weight of freeing the Xylthari spirits effectively.\n",
      "\n",
      "3. **Fluency**: The Spanish translation flows well and maintains grammatical correctness, making it readable for Spanish-speaking audiences.\n",
      "\n",
      "### Areas for Improvement (if applicable):\n",
      "- **Depth of Detail**: Depending on the target audience's familiarity with sci-fi tropes, the summary could include a little more detail about the Xylthari civilization or the nature of their tragedy, but this is not strictly necessary given the prompt for a concise summary.\n",
      "- **Cultural Nuances**: The translator could consider incorporating more culturally relevant expressions to enhance relatability for Spanish-speaking audiences, although this is not a fundamental flaw.\n",
      "\n",
      "Overall, both the summary and the translation effectively condense the original story, making them accessible to readers without losing the essence of the narrative.\n"
     ]
    }
   ],
   "source": [
    "@openai.call(\"gpt-4o-mini\")\n",
    "@prompt_template(\"Generate a short story in the {genre} genre\")\n",
    "def generate_story(genre: str): ...\n",
    "\n",
    "\n",
    "@openai.call(\"gpt-4o-mini\")\n",
    "@prompt_template(\"Summarize this story in one sentence: {story}\")\n",
    "def summarize_story(story: str): ...\n",
    "\n",
    "\n",
    "@openai.call(\"gpt-4o-mini\")\n",
    "@prompt_template(\"Translate this text to {language}: {text}\")\n",
    "def translate(text: str, language: str): ...\n",
    "\n",
    "\n",
    "@openai.call(\"gpt-4o-mini\")\n",
    "@prompt_template(\n",
    "    \"\"\"\n",
    "    Original Story: {original_story}\n",
    "    Summary: {summary}\n",
    "    Translated Summary: {translated_summary}\n",
    "    \n",
    "    Based on the above information, analyze the effectiveness of the summary and translation.\n",
    "    \"\"\"\n",
    ")\n",
    "def analyze_chain(\n",
    "    original_story: str, summary: str, translated_summary: str\n",
    ") -> openai.OpenAIDynamicConfig:\n",
    "    return {\n",
    "        \"computed_fields\": {\n",
    "            \"original_story\": original_story,\n",
    "            \"summary\": summary,\n",
    "            \"translated_summary\": translated_summary,\n",
    "        }\n",
    "    }\n",
    "\n",
    "\n",
    "# Execute the chain\n",
    "story = generate_story(\"science fiction\").content\n",
    "summary = summarize_story(story).content\n",
    "translated_summary = translate(summary, \"spanish\").content\n",
    "analysis = analyze_chain(story, summary, translated_summary)\n",
    "\n",
    "print(\"Analysis:\", analysis.content)"
   ]
  },
  {
   "cell_type": "markdown",
   "metadata": {},
   "source": [
    "### Conditional Chaining\n",
    "\n",
    "We can use conditional logic to determine the next step in our chain."
   ]
  },
  {
   "cell_type": "code",
   "execution_count": 1,
   "metadata": {
    "ExecuteTime": {
     "end_time": "2024-09-10T04:44:51.935538Z",
     "start_time": "2024-09-10T04:44:49.517097Z"
    }
   },
   "outputs": [
    {
     "name": "stdout",
     "output_type": "stream",
     "text": [
      "Processed negative text: Today presented some challenges, but I'm looking forward to tomorrow and the opportunities it will bring!\n",
      "\n",
      "Processed positive text: Today was great! I achieved all my goals.\n"
     ]
    }
   ],
   "source": [
    "from pydantic import BaseModel\n",
    "\n",
    "\n",
    "class SentimentResponse(BaseModel):\n",
    "    sentiment: str\n",
    "\n",
    "\n",
    "@openai.call(\"gpt-4o-mini\", response_model=SentimentResponse)\n",
    "@prompt_template(\"Analyze the sentiment of this text: {text}\")\n",
    "def analyze_sentiment(text: str): ...\n",
    "\n",
    "\n",
    "@openai.call(\"gpt-4o-mini\")\n",
    "@prompt_template(\"Rewrite this text to be more positive: {text}\")\n",
    "def make_positive(text: str): ...\n",
    "\n",
    "\n",
    "@openai.call(\"gpt-4o-mini\")\n",
    "@prompt_template(\"Summarize this text: {text}\")\n",
    "def summarize(text: str): ...\n",
    "\n",
    "\n",
    "def process_text(text: str):\n",
    "    sentiment = analyze_sentiment(text).sentiment\n",
    "    if sentiment == \"negative\":\n",
    "        return make_positive(text).content\n",
    "    else:\n",
    "        return summarize(text).content\n",
    "\n",
    "\n",
    "negative_text = \"I had a terrible day. Everything went wrong.\"\n",
    "positive_text = \"Today was amazing! I accomplished all my goals.\"\n",
    "\n",
    "print(\"Processed negative text:\", process_text(negative_text))\n",
    "print(\"\\nProcessed positive text:\", process_text(positive_text))"
   ]
  },
  {
   "cell_type": "markdown",
   "metadata": {},
   "source": [
    "### Parallel Chaining\n",
    "\n",
    "We can execute multiple chains in parallel for improved efficiency."
   ]
  },
  {
   "cell_type": "code",
   "execution_count": 1,
   "metadata": {
    "ExecuteTime": {
     "end_time": "2024-09-10T04:44:54.113507Z",
     "start_time": "2024-09-10T04:44:53.511780Z"
    }
   },
   "outputs": [
    {
     "name": "stdout",
     "output_type": "stream",
     "text": [
      "French: Bonjour, le monde !\n",
      "Spanish: ¡Hola, mundo!\n",
      "German: Hallo, Welt!\n",
      "Italian: Ciao, mondo!\n"
     ]
    }
   ],
   "source": [
    "import asyncio\n",
    "\n",
    "\n",
    "@openai.call(\"gpt-4o-mini\")\n",
    "@prompt_template(\"Translate this text to {language}: {text}\")\n",
    "async def translate_async(text: str, language: str): ...\n",
    "\n",
    "\n",
    "async def translate_to_multiple_languages(text: str, languages: list[str]):\n",
    "    tasks = [translate_async(text, lang) for lang in languages]\n",
    "    results = await asyncio.gather(*tasks)\n",
    "    return {\n",
    "        lang: result.content for lang, result in zip(languages, results, strict=False)\n",
    "    }\n",
    "\n",
    "\n",
    "text = \"Hello, world!\"\n",
    "languages = [\"French\", \"Spanish\", \"German\", \"Italian\"]\n",
    "\n",
    "\n",
    "async def main():\n",
    "    translations = await translate_to_multiple_languages(text, languages)\n",
    "    for lang, translation in translations.items():\n",
    "        print(f\"{lang}: {translation}\")\n",
    "\n",
    "\n",
    "# Run the asynchronous function in Jupyter notebooks\n",
    "await main()\n",
    "\n",
    "# Run the asynchronous function in a Python script\n",
    "# asyncio.run(main())"
   ]
  },
  {
   "cell_type": "markdown",
   "metadata": {},
   "source": [
    "## Advanced Techniques\n",
    "\n",
    "### Combining Dynamic Config and Chaining\n",
    "\n",
    "We can combine dynamic configuration with chaining for more complex workflows."
   ]
  },
  {
   "cell_type": "code",
   "execution_count": 1,
   "metadata": {
    "ExecuteTime": {
     "end_time": "2024-09-10T04:45:21.275740Z",
     "start_time": "2024-09-10T04:45:00.692797Z"
    }
   },
   "outputs": [
    {
     "name": "stdout",
     "output_type": "stream",
     "text": [
      "Original Story: **Title: The Whispering Willows**\n",
      "\n",
      "The small town of Eldermere was known for its scenic beauty, but beneath its charming façade lay secrets buried deep as the roots of its ancient weeping willows. One brisk autumn evening, Clara, an aspiring journalist, returned to her childhood home, drawn by a strange feeling that had tugged at her heart since her grandmother's passing.\n",
      "\n",
      "As she sorted through her grandmother's belongings, Clara stumbled upon an old wooden box, intricately carved with patterns of intertwining vines and leaves. Inside, she found a collection of yellowed letters and a delicate silver locket. Intrigued, she opened the locket, revealing two portraits: one of her grandmother as a young woman and another of an unfamiliar man with dark, piercing eyes.\n",
      "\n",
      "Clara’s curiosity was piqued. She had heard whispers about her grandmother’s past—rumors of a forbidden love, a tragedy that had marred their family’s history. Determined to uncover the truth, Clara visited the local library, poring over old records and newspaper clippings.\n",
      "\n",
      "Her investigation led her to the story of Benjamin Ashford, a man who had mysteriously vanished from Eldermere decades before. The town whispered of his connection to her grandmother, recalling secret meetings beneath the willows at the edge of town. Clara felt a chill run down her spine—what had really happened to him?\n",
      "\n",
      "That night, armed with a flashlight and her grandmother’s locket, Clara ventured out to the grove of willows, their long branches swaying gently in the evening breeze. As she reached the clearing where the letters mentioned secret rendezvous, a sudden gust of wind swept through, rustling the leaves like a chorus of whispers.\n",
      "\n",
      "“Show me,” Clara murmured, feeling a compelling force guiding her. She began to dig beneath the roots of the largest willow. With each scoop of the dirt, her heart raced, and finally, her shovel hit something solid. She unearthed a small, rusted tin box.\n",
      "\n",
      "Inside, she found more letters—love letters exchanged between her grandmother and Benjamin. The final letter was dated the day before his disappearance. In it, Benjamin wrote of a plan to elope, revealing that he had been threatened by someone who wanted to keep them apart. He mentioned meeting at their special place, warning her to be careful and not to trust anyone.\n",
      "\n",
      "Clara’s heart sank. Who had threatened Benjamin? Had her grandmother been involved in his disappearance? Determined to find answers, she returned home and scoured the final letter for clues. In the margins were the initials “M.E.” Her grandmother’s best friend had the same initials.\n",
      "\n",
      "The next day, Clara approached Miriam Eastwood, now an elderly woman with a twinkle of mischief in her eyes. As Clara shared what she had uncovered, Miriam's expression changed. She hesitated and finally admitted that she knew the truth. Benjamin had been her secret lover, but he had also been dangerous. He was mixed up in shady dealings, and when he tried to involve Clara’s grandmother, Miriam had stepped in to protect her friend.\n",
      "\n",
      "Miriam revealed a heart-wrenching twist: she had witnessed Benjamin's last moments. \"It wasn’t supposed to be like this,\" she whispered, tears welling. \"I was scared, and in a moment of panic, things went too far…\"\n",
      "\n",
      "Clara listened, horrified yet captivated. “What happened?” she urged, her voice barely above a whisper.\n",
      "\n",
      "“He was buried deep under the willows to hide the truth,” Miriam confessed. “I thought no one would find him. I could never tell your grandmother… I hoped to protect you both.”\n",
      "\n",
      "Days later, Clara returned to the willows, her heart heavy but determined to bring closure. With Miriam’s confession, she knew she had to unearth the past fully. She contacted the local authorities, leading them to the site. As they excavated, they discovered the remains of hastily buried clothing—and, beneath it, a hollowed bone.\n",
      "\n",
      "The closure for Clara was bittersweet. She had uncovered the tragedy that had haunted her family and the town for so long. As autumn faded into winter, Clara published her findings, ensuring that Benjamin Ashford’s story was told, not just as a ghost who haunted the willows, but as a man caught in a web of love and fear.\n",
      "\n",
      "In the heart of Eldermere, the whispering willows stood tall, their leaves rustling with old secrets—secrets now finally set free.\n",
      "\n",
      "Rewritten Story: **Title: The Whispering Willows**\n",
      "\n",
      "In the quiet town of Eldermere, where the morning mists intertwined with the silhouettes of ancient willows, beauty danced hand in hand with sorrow. The townsfolk often remarked on the picturesque landscape, but behind the charming façades lay darkened truths, secrets as numerous as the fallen leaves carpeting the ground. Clara returned one dull autumn evening, her heart weighed down by a pilgrimage to her childhood home, a place steeped in memories tinged with melancholy after her grandmother’s passing.\n",
      "\n",
      "As Clara sifted through the remnants of her grandmother's life, a fragile wooden box caught her eye, its surface etched with winding patterns reminiscent of the very willows that loomed outside. The box felt alive in her hands, and when she lifted the lid, a waft of nostalgia swept over her. Inside, she discovered aged letters curling lightly at the edges alongside a delicate silver locket. With cautious fingers, Clara opened it, revealing two photographs: one of her grandmother, luminous and young, the other a man with smoldering eyes that bore an unsettling familiarity.\n",
      "\n",
      "Intrigued by the mysteries whispered throughout her childhood, Clara felt an insatiable curiosity awaken within her—a beckoning to unravel a tapestry woven with love and loss. Old stories echoed in her mind, tales of a romance enveloped in shadows, a tragedy that had long left scars on her family’s narrative. Determined, Clara ventured to the local library, its dusty shelves sheltering the forgotten lore of Eldermere. \n",
      "\n",
      "The tales of Benjamin Ashford unraveled before her: a man who had vanished without a trace, leaving only hushed speculations and lingering questions. The town spoke of his connection to her grandmother, recounting clandestine meetings beneath the sorrowful willows that stood like sentinels at the town's edge. Clara felt an icy tendril of fear curl around her heart—what dark hands had ripped Benjamin from their lives?\n",
      "\n",
      "That evening, spurred by the faint rustle of chilling winds, Clara clutched the silver locket and made her way to the grove of willows. The trees swayed gently, their branches whispering secrets as if urging her onward. As she reached the clearing where letters hinted at secret rendezvous, a sudden gust swept through the trees, the rustling leaves crafting a symphony of soft murmurs.\n",
      "\n",
      "\"Reveal your truth,\" Clara breathed, feeling an unseen force propelling her. With each shovel of dirt from beneath the sprawling roots of the largest willow, her heart drummed a frantic rhythm. Then—metal against metal—her spade clanged into a hidden object. She gasped, unearthing a rusted tin box.\n",
      "\n",
      "Inside lay more letters—passionate declarations penned between her grandmother and Benjamin. Clara’s heart twisted as she read the last letter, dated the day before his disappearance. It was saturated with longing, yet its chilling warnings hinted at a dark threat lurking in the shadows—a desperate plea to elope beneath the willows, alongside an unsettling caution to keep her trust scarce.\n",
      "\n",
      "Clara’s pulse quickened as she deciphered the initials scrawled in the margins: “M.E.” Miriam Eastwood—her grandmother’s closest friend.\n",
      "\n",
      "With the dawn of the next day, Clara sought Miriam, now an elderly figure buoyed by years of mischief and melancholy. As the weight of Clara’s discoveries unfolded before her, Miriam’s countenance shifted, regret flitting across her features. She confessed to a past woven with mystery—the love she’d shared with Benjamin, a bond steeped in danger. \n",
      "\n",
      "“He was perilous, Clara,” she murmured, her eyes glistening with unshed tears. “I was afraid he’d lead your grandmother into darkness…” \n",
      "\n",
      "Gathering her courage, Clara pressed her. “What truly happened?”\n",
      "\n",
      "“Benjamin’s last moments were shadowed,” Miriam’s voice trembled. “In fear, I took action, and in that moment of panic, I should have chosen differently...” \n",
      "\n",
      "The revelation turned Clara’s world upside down. Benjamin had been hidden beneath the willows, buried deep to protect a truth too damning to reveal. Yet Miriam had thought of their well-being, of the secrets that demanded silence.\n",
      "\n",
      "Days of turmoil followed, yet Clara could not turn away from her calling. Heart heavy, she returned to the willows, where the whispers of the past beckoned her. With Miriam’s insights, Clara summoned the authorities to unearth these long-buried truths. As they excavated the earth, they uncovered fragments of clothing intertwined with remnants of a life lost—then a hollow bone.\n",
      "\n",
      "Bittersweet closure enveloped Clara; she had unshackled her family from a tragedy that had ensnared their lineage. As the season turned from autumn’s embrace to the icy reach of winter, Clara chronicled her findings, ensuring that the tale of Benjamin Ashford would resonate—not merely as a ghost lost to the willows, but as a man entwined in a forbidden love that carried the weight of fear.\n",
      "\n",
      "In Eldermere, the whispering willows remained, their branches rustling in a gentle lament, finally set free from the oppressive grip of time. Secrets now lingered softly, reminiscent of the stories long forgotten, yet never truly laid to rest. Clara, a steward of truth, felt the bittersweet ache of the past woven into her present—a reminder that history and memory are forever intertwined beneath the swaying trees.\n",
      "\n",
      "Computed Fields: {'story': '**Title: The Whispering Willows**\\n\\nThe small town of Eldermere was known for its scenic beauty, but beneath its charming façade lay secrets buried deep as the roots of its ancient weeping willows. One brisk autumn evening, Clara, an aspiring journalist, returned to her childhood home, drawn by a strange feeling that had tugged at her heart since her grandmother\\'s passing.\\n\\nAs she sorted through her grandmother\\'s belongings, Clara stumbled upon an old wooden box, intricately carved with patterns of intertwining vines and leaves. Inside, she found a collection of yellowed letters and a delicate silver locket. Intrigued, she opened the locket, revealing two portraits: one of her grandmother as a young woman and another of an unfamiliar man with dark, piercing eyes.\\n\\nClara’s curiosity was piqued. She had heard whispers about her grandmother’s past—rumors of a forbidden love, a tragedy that had marred their family’s history. Determined to uncover the truth, Clara visited the local library, poring over old records and newspaper clippings.\\n\\nHer investigation led her to the story of Benjamin Ashford, a man who had mysteriously vanished from Eldermere decades before. The town whispered of his connection to her grandmother, recalling secret meetings beneath the willows at the edge of town. Clara felt a chill run down her spine—what had really happened to him?\\n\\nThat night, armed with a flashlight and her grandmother’s locket, Clara ventured out to the grove of willows, their long branches swaying gently in the evening breeze. As she reached the clearing where the letters mentioned secret rendezvous, a sudden gust of wind swept through, rustling the leaves like a chorus of whispers.\\n\\n“Show me,” Clara murmured, feeling a compelling force guiding her. She began to dig beneath the roots of the largest willow. With each scoop of the dirt, her heart raced, and finally, her shovel hit something solid. She unearthed a small, rusted tin box.\\n\\nInside, she found more letters—love letters exchanged between her grandmother and Benjamin. The final letter was dated the day before his disappearance. In it, Benjamin wrote of a plan to elope, revealing that he had been threatened by someone who wanted to keep them apart. He mentioned meeting at their special place, warning her to be careful and not to trust anyone.\\n\\nClara’s heart sank. Who had threatened Benjamin? Had her grandmother been involved in his disappearance? Determined to find answers, she returned home and scoured the final letter for clues. In the margins were the initials “M.E.” Her grandmother’s best friend had the same initials.\\n\\nThe next day, Clara approached Miriam Eastwood, now an elderly woman with a twinkle of mischief in her eyes. As Clara shared what she had uncovered, Miriam\\'s expression changed. She hesitated and finally admitted that she knew the truth. Benjamin had been her secret lover, but he had also been dangerous. He was mixed up in shady dealings, and when he tried to involve Clara’s grandmother, Miriam had stepped in to protect her friend.\\n\\nMiriam revealed a heart-wrenching twist: she had witnessed Benjamin\\'s last moments. \"It wasn’t supposed to be like this,\" she whispered, tears welling. \"I was scared, and in a moment of panic, things went too far…\"\\n\\nClara listened, horrified yet captivated. “What happened?” she urged, her voice barely above a whisper.\\n\\n“He was buried deep under the willows to hide the truth,” Miriam confessed. “I thought no one would find him. I could never tell your grandmother… I hoped to protect you both.”\\n\\nDays later, Clara returned to the willows, her heart heavy but determined to bring closure. With Miriam’s confession, she knew she had to unearth the past fully. She contacted the local authorities, leading them to the site. As they excavated, they discovered the remains of hastily buried clothing—and, beneath it, a hollowed bone.\\n\\nThe closure for Clara was bittersweet. She had uncovered the tragedy that had haunted her family and the town for so long. As autumn faded into winter, Clara published her findings, ensuring that Benjamin Ashford’s story was told, not just as a ghost who haunted the willows, but as a man caught in a web of love and fear.\\n\\nIn the heart of Eldermere, the whispering willows stood tall, their leaves rustling with old secrets—secrets now finally set free.', 'genre': 'mystery', 'tone': 'The tone of \"The Whispering Willows\" can be described as mysterious and melancholic with an undercurrent of intrigue. The author sets the stage in the small town of Eldermere, creating an atmosphere that is both picturesque and laden with hidden truths. The juxtaposition of the town\\'s scenic beauty against its buried secrets establishes a somber mood, inviting readers to dig deeper into Clara\\'s journey of discovery.\\n\\nThe narrative tone shifts as Clara uncovers her grandmother\\'s past, transitioning into an intense curiosity and determination. When Clara finds the old wooden box and the letters, the tone shifts to one of intrigue and suspense. The act of uncovering the old letters and the subsequent investigation into Benjamin Ashford\\'s disappearance adds a layer of tension, marked by Clara\\'s sense of fear and anticipation as she learns more about her family\\'s tragic history.\\n\\nAs Clara digs deeper into the mystery, the tone becomes haunting, particularly during the scenes involving the willows and the whispers that accompany them. The imagery of the swaying branches and the rustling leaves imbues the story with a supernatural quality, enhancing the eerie atmosphere and amplifying Clara’s emotional turmoil.\\n\\nFurthermore, the interactions between Clara and Miriam introduce a poignant introspective tone. Miriam’s confession about her role in the events that transpired brings a heavy emotional weight to the story, evoking feelings of regret and sorrow. The revelation that the past is marred by tragic circumstances adds layers of complexity, resulting in a bittersweet tone by the story\\'s conclusion.\\n\\nOverall, \"The Whispering Willows\" maintains a tone that is both haunting and reflective, guiding readers through a compelling narrative about love, loss, and the quest for truth amid the echoes of the past. The ending, while offering some closure, leaves a lingering sense of melancholy, underscoring the idea that the ghosts of history remain intertwined with the present.'}\n"
     ]
    }
   ],
   "source": [
    "@openai.call(\"gpt-4o-mini\")\n",
    "@prompt_template(\"Generate a {length} {genre} story\")\n",
    "def generate_story(genre: str, length: str): ...\n",
    "\n",
    "\n",
    "@openai.call(\"gpt-4o-mini\")\n",
    "@prompt_template(\"Analyze the tone of this story: {story}\")\n",
    "def analyze_tone(story: str): ...\n",
    "\n",
    "\n",
    "@openai.call(\"gpt-4o-mini\")\n",
    "@prompt_template(\"Rewrite this {genre} story in a {tone} tone: {story}\")\n",
    "def rewrite_story(story: str, genre: str, tone: str) -> openai.OpenAIDynamicConfig:\n",
    "    return {\n",
    "        \"computed_fields\": {\n",
    "            \"story\": story,\n",
    "            \"genre\": genre,\n",
    "            \"tone\": analyze_tone(story).content,\n",
    "        }\n",
    "    }\n",
    "\n",
    "\n",
    "original_story = generate_story(\"mystery\", \"short\").content\n",
    "rewritten_story = rewrite_story(original_story, \"mystery\", \"suspenseful\")\n",
    "\n",
    "print(\"Original Story:\", original_story)\n",
    "print(\"\\nRewritten Story:\", rewritten_story.content)\n",
    "print(\"\\nComputed Fields:\", rewritten_story.dynamic_config[\"computed_fields\"])"
   ]
  },
  {
   "cell_type": "markdown",
   "metadata": {},
   "source": [
    "### Error Handling in Chains\n",
    "\n",
    "Implementing robust error handling is crucial in complex chains."
   ]
  },
  {
   "cell_type": "code",
   "execution_count": 1,
   "metadata": {
    "ExecuteTime": {
     "end_time": "2024-09-10T04:45:22.588045Z",
     "start_time": "2024-09-10T04:45:21.308618Z"
    }
   },
   "outputs": [
    {
     "name": "stdout",
     "output_type": "stream",
     "text": [
      "Processed Result: Bien sûr ! Veuillez fournir le texte que vous souhaitez que je résume, et je serai heureux de vous aider !\n"
     ]
    }
   ],
   "source": [
    "from openai import OpenAIError\n",
    "\n",
    "\n",
    "@openai.call(\"gpt-4o-mini\")\n",
    "@prompt_template(\"Summarize this text: {text}\")\n",
    "def summarize(text: str): ...\n",
    "\n",
    "\n",
    "@openai.call(\"gpt-4o-mini\")\n",
    "@prompt_template(\"Translate this text to {language}: {text}\")\n",
    "def translate(text: str, language: str): ...\n",
    "\n",
    "\n",
    "def process_text_with_error_handling(text: str, target_language: str):\n",
    "    try:\n",
    "        summary = summarize(text).content\n",
    "    except OpenAIError as e:\n",
    "        print(f\"Error during summarization: {e}\")\n",
    "        summary = text  # Fallback to original text if summarization fails\n",
    "\n",
    "    try:\n",
    "        translation = translate(summary, target_language).content\n",
    "        return translation\n",
    "    except OpenAIError as e:\n",
    "        print(f\"Error during translation: {e}\")\n",
    "        return summary  # Fallback to summary if translation fails\n",
    "\n",
    "\n",
    "result = process_text_with_error_handling(\"Long text here...\", \"French\")\n",
    "print(\"Processed Result:\", result)"
   ]
  },
  {
   "cell_type": "markdown",
   "metadata": {},
   "source": [
    "## Conclusion\n",
    "\n",
    "This notebook has demonstrated various techniques for using Dynamic Configuration and Chaining in Mirascope. These powerful features allow you to create flexible, efficient, and complex LLM-powered applications. By combining these techniques, you can build sophisticated AI systems that can adapt to different inputs and requirements while maintaining robustness and traceability.\n",
    "\n",
    "Remember to always consider error handling, especially in complex chains, to ensure your applications are resilient to potential issues that may arise during LLM calls or processing steps."
   ]
  }
 ],
 "metadata": {
  "kernelspec": {
   "display_name": "Python 3 (ipykernel)",
   "language": "python",
   "name": "python3"
  },
  "language_info": {
   "name": "python"
  }
 },
 "nbformat": 4,
 "nbformat_minor": 2
}
