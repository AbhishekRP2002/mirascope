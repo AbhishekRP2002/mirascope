{
 "cells": [
  {
   "cell_type": "markdown",
   "metadata": {},
   "source": [
    "# Dynamic Configuration and Chaining in Mirascope\n",
    "\n",
    "This notebook provides a detailed introduction to using Dynamic Configuration and Chaining in Mirascope. We'll cover various examples ranging from basic usage to more complex chaining techniques.\n",
    "\n",
    "For more information on these topics, refer to the following documentation:\n",
    "- [Dynamic Configuration](https://docs.mirascope.io/learn/dynamic_configuration/)\n",
    "- [Chaining](https://docs.mirascope.io/learn/chaining/)\n",
    "\n",
    "1. [Setup](#Setup)\n",
    "2. [Dynamic Configuration](#Dynamic-Configuration)\n",
    "   - [Basic Usage](#Basic-Usage)\n",
    "   - [Computed Fields](#Computed-Fields)\n",
    "   - [Dynamic Tools](#Dynamic-Tools)\n",
    "3. [Chaining](#Chaining)\n",
    "   - [Function-based Chaining](#Function-based-Chaining)\n",
    "   - [Chaining with Computed Fields](#Chaining-with-Computed-Fields)\n",
    "4. [Advanced Techniques](#Advanced-Techniques)\n",
    "   - [Combining Dynamic Config and Chaining](#Combining-Dynamic-Config-and-Chaining)\n",
    "   - [Error Handling in Chains](#Error-Handling-in-Chains)\n",
    "5. [Conclusion](#Conclusion)"
   ]
  },
  {
   "cell_type": "markdown",
   "metadata": {},
   "source": [
    "## Setup\n",
    "\n",
    "First, let's install Mirascope and set up our environment. We'll use OpenAI for our examples, but you can adapt these to other providers supported by Mirascope. For more information on supported providers, see the [Calls documentation](https://docs.mirascope.io/learn/calls/)."
   ]
  },
  {
   "cell_type": "code",
   "execution_count": null,
   "metadata": {},
   "outputs": [],
   "source": [
    "!pip install \"mirascope[openai]\""
   ]
  },
  {
   "cell_type": "code",
   "execution_count": null,
   "metadata": {},
   "outputs": [],
   "source": [
    "import os\n",
    "\n",
    "os.environ[\"OPENAI_API_KEY\"] = \"your-api-key-here\""
   ]
  },
  {
   "cell_type": "markdown",
   "metadata": {},
   "source": [
    "## Dynamic Configuration\n",
    "\n",
    "Dynamic Configuration in Mirascope allows you to modify the behavior of LLM calls at runtime based on input arguments or other conditions. For more details, see the [Dynamic Configuration documentation](https://docs.mirascope.io/learn/dynamic_configuration/).\n",
    "\n",
    "### Basic Usage"
   ]
  },
  {
   "cell_type": "code",
   "metadata": {
    "ExecuteTime": {
     "end_time": "2024-09-11T07:36:01.762693Z",
     "start_time": "2024-09-11T07:35:57.078707Z"
    }
   },
   "source": [
    "from mirascope.core import openai, prompt_template\n",
    "\n",
    "\n",
    "@openai.call(\"gpt-4o-mini\")\n",
    "@prompt_template(\"Recommend a {genre} book\")\n",
    "def recommend_book(genre: str, creativity: float) -> openai.OpenAIDynamicConfig:\n",
    "    return {\"call_params\": {\"temperature\": creativity}}\n",
    "\n",
    "\n",
    "# Low creativity recommendation\n",
    "response = recommend_book(\"mystery\", 0.2)\n",
    "print(\"Low creativity:\", response.content)\n",
    "\n",
    "# High creativity recommendation\n",
    "response = recommend_book(\"mystery\", 0.8)\n",
    "print(\"High creativity:\", response.content)"
   ],
   "outputs": [
    {
     "name": "stdout",
     "output_type": "stream",
     "text": [
      "Low creativity: I recommend \"The Girl with the Dragon Tattoo\" by Stieg Larsson. This gripping mystery novel follows journalist Mikael Blomkvist and hacker Lisbeth Salander as they investigate the decades-old disappearance of a wealthy industrialist's niece. The story weaves together themes of family secrets, corruption, and revenge, all while keeping readers on the edge of their seats with its intricate plot and well-developed characters. It's a compelling read that has captivated audiences worldwide. Enjoy!\n",
      "High creativity: I recommend \"The Girl with the Dragon Tattoo\" by Stieg Larsson. This gripping mystery novel follows journalist Mikael Blomkvist and hacker Lisbeth Salander as they investigate the decades-old disappearance of a wealthy industrialist's niece. The story weaves together themes of family secrets, corruption, and vengeance, making it a compelling read that keeps you guessing until the end. If you enjoy intricate plots and strong character development, this book is a great choice!\n"
     ]
    }
   ],
   "execution_count": 1
  },
  {
   "cell_type": "markdown",
   "metadata": {},
   "source": [
    "### Computed Fields\n",
    "\n",
    "Computed fields allow you to dynamically generate or modify template variables used in your prompt. For more information on prompt templates, see the [Prompts documentation](https://docs.mirascope.io/learn/prompts/)."
   ]
  },
  {
   "cell_type": "code",
   "metadata": {
    "ExecuteTime": {
     "end_time": "2024-09-11T07:36:06.480670Z",
     "start_time": "2024-09-11T07:36:05.149070Z"
    }
   },
   "source": [
    "@openai.call(\"gpt-4o-mini\")\n",
    "@prompt_template(\"Recommend a {genre} book with a reading level of {reading_level}\")\n",
    "def recommend_book_by_age(genre: str, age: int) -> openai.OpenAIDynamicConfig:\n",
    "    reading_level = \"adult\"\n",
    "    if age < 12:\n",
    "        reading_level = \"elementary\"\n",
    "    elif age < 18:\n",
    "        reading_level = \"young adult\"\n",
    "    return {\"computed_fields\": {\"reading_level\": reading_level}}\n",
    "\n",
    "\n",
    "response = recommend_book_by_age(\"fantasy\", 15)\n",
    "print(response.content)"
   ],
   "outputs": [
    {
     "name": "stdout",
     "output_type": "stream",
     "text": [
      "A great recommendation for a young adult fantasy book is **\"Six of Crows\" by Leigh Bardugo**. This novel features a group of misfits who come together to pull off an impossible heist in a richly imagined world filled with magic, intrigue, and complex characters. The story is fast-paced and full of twists, making it a captivating read for young adults. Plus, the themes of friendship, loyalty, and redemption resonate well with that age group. Enjoy!\n"
     ]
    }
   ],
   "execution_count": 2
  },
  {
   "cell_type": "markdown",
   "metadata": {},
   "source": [
    "### Dynamic Tools\n",
    "\n",
    "You can dynamically configure which tools are available to the LLM based on runtime conditions. Here's a simple example using a basic tool function:"
   ]
  },
  {
   "cell_type": "code",
   "metadata": {
    "ExecuteTime": {
     "end_time": "2024-09-11T07:36:09.151739Z",
     "start_time": "2024-09-11T07:36:08.392083Z"
    }
   },
   "source": [
    "def format_book(title: str, author: str, genre: str) -> str:\n",
    "    \"\"\"Format a book recommendation.\"\"\"\n",
    "    return f\"{title} by {author} ({genre})\"\n",
    "\n",
    "\n",
    "@openai.call(\"gpt-4o-mini\")\n",
    "@prompt_template(\"Recommend a {genre} book\")\n",
    "def recommend_book_with_tool(genre: str) -> openai.OpenAIDynamicConfig:\n",
    "    return {\"tools\": [format_book]}\n",
    "\n",
    "\n",
    "response = recommend_book_with_tool(\"mystery\")\n",
    "if response.tool:\n",
    "    print(response.tool.call())\n",
    "else:\n",
    "    print(response.content)"
   ],
   "outputs": [
    {
     "name": "stdout",
     "output_type": "stream",
     "text": [
      "The Girl with the Dragon Tattoo by Stieg Larsson (Mystery)\n"
     ]
    }
   ],
   "execution_count": 3
  },
  {
   "cell_type": "markdown",
   "metadata": {},
   "source": "For more advanced usage of tools, including the `BaseToolKit` class, please refer to the [Tools documentation](https://docs.mirascope.io/latest/learn/tools/) and the [Tools and Agents Getting Started Guide](https://docs.mirascope.io/latest/cookbook/agents/)."
  },
  {
   "cell_type": "markdown",
   "metadata": {},
   "source": [
    "## Chaining\n",
    "\n",
    "Chaining in Mirascope allows you to combine multiple LLM calls or operations in a sequence to solve complex tasks. Let's explore two main approaches to chaining: function-based chaining and chaining with computed fields.\n",
    "\n",
    "### Function-based Chaining\n",
    "\n",
    "In function-based chaining, you call multiple functions in sequence, passing the output of one function as input to the next. This approach requires you to manage the sequence of calls manually."
   ]
  },
  {
   "cell_type": "code",
   "metadata": {
    "ExecuteTime": {
     "end_time": "2024-09-11T07:36:16.594586Z",
     "start_time": "2024-09-11T07:36:15.294731Z"
    }
   },
   "source": [
    "@openai.call(\"gpt-4o-mini\")\n",
    "@prompt_template(\"Summarize this text: {text}\")\n",
    "def summarize(text: str): ...\n",
    "\n",
    "\n",
    "@openai.call(\"gpt-4o-mini\")\n",
    "@prompt_template(\"Translate this text to {language}: {text}\")\n",
    "def translate(text: str, language: str): ...\n",
    "\n",
    "\n",
    "original_text = \"Long English text here...\"\n",
    "summary = summarize(original_text)\n",
    "translation = translate(summary.content, \"french\")\n",
    "print(translation.content)"
   ],
   "outputs": [
    {
     "name": "stdout",
     "output_type": "stream",
     "text": [
      "Bien sûr ! Veuillez fournir le texte que vous aimeriez résumer, et je serai ravi de vous aider.\n"
     ]
    }
   ],
   "execution_count": 4
  },
  {
   "cell_type": "markdown",
   "metadata": {},
   "source": [
    "### Chaining with Computed Fields\n",
    "\n",
    "Chaining with computed fields allows you to encapsulate multiple steps within a single function call. This approach provides better traceability and allows you to access the full chain of operations in the response of a single function, rather than having to call and track them separately in sequence."
   ]
  },
  {
   "cell_type": "code",
   "metadata": {
    "ExecuteTime": {
     "end_time": "2024-09-11T07:36:20.903239Z",
     "start_time": "2024-09-11T07:36:19.838736Z"
    }
   },
   "source": [
    "@openai.call(\"gpt-4o-mini\")\n",
    "@prompt_template(\"Summarize this text: {text}\")\n",
    "def summarize(text: str): ...\n",
    "\n",
    "\n",
    "@openai.call(\"gpt-4o-mini\")\n",
    "@prompt_template(\"Translate this text to {language}: {summary}\")\n",
    "def summarize_and_translate(text: str, language: str) -> openai.OpenAIDynamicConfig:\n",
    "    return {\"computed_fields\": {\"summary\": summarize(text)}}\n",
    "\n",
    "\n",
    "response = summarize_and_translate(\"Long English text here...\", \"french\")\n",
    "print(\"Translation:\", response.content)\n",
    "print(\n",
    "    \"\\nComputed fields (including summary):\", response.dynamic_config[\"computed_fields\"]\n",
    ")"
   ],
   "outputs": [
    {
     "name": "stdout",
     "output_type": "stream",
     "text": [
      "Translation: Bien sûr ! Veuillez fournir le texte que vous souhaitez résumer.\n",
      "\n",
      "Computed fields (including summary): {'summary': OpenAICallResponse(metadata={}, response=ChatCompletion(id='chatcmpl-A6CBgZpwtN1VFqr82MgeOeg01CGue', choices=[Choice(finish_reason='stop', index=0, logprobs=None, message=ChatCompletionMessage(content=\"Sure! Please provide the text you'd like summarized.\", refusal=None, role='assistant', function_call=None, tool_calls=None))], created=1726040180, model='gpt-4o-mini-2024-07-18', object='chat.completion', service_tier=None, system_fingerprint='fp_483d39d857', usage=CompletionUsage(completion_tokens=10, prompt_tokens=18, total_tokens=28)), tool_types=None, prompt_template='Summarize this text: {text}', fn_args={'text': 'Long English text here...'}, dynamic_config=None, messages=[{'role': 'user', 'content': 'Summarize this text: Long English text here...'}], call_params={}, call_kwargs={'model': 'gpt-4o-mini', 'messages': [{'role': 'user', 'content': 'Summarize this text: Long English text here...'}]}, user_message_param={'content': 'Summarize this text: Long English text here...', 'role': 'user'}, start_time=1726040179855.303, end_time=1726040180415.7542, message_param={'content': \"Sure! Please provide the text you'd like summarized.\", 'refusal': None, 'role': 'assistant', 'tool_calls': None}, tools=None, tool=None)}\n"
     ]
    }
   ],
   "execution_count": 5
  },
  {
   "cell_type": "markdown",
   "metadata": {},
   "source": [
    "As you can see, with computed fields, you get access to both the final translation and the intermediate summary in a single response. This approach provides better traceability and can be particularly useful for debugging and understanding the entire chain of operations without the need to manage multiple separate function calls."
   ]
  },
  {
   "cell_type": "markdown",
   "metadata": {},
   "source": [
    "## Advanced Techniques\n",
    "\n",
    "### Combining Dynamic Config and Chaining\n",
    "\n",
    "This example demonstrates how to use dynamic configuration within a chain of operations, all encapsulated within a single function call using computed fields."
   ]
  },
  {
   "cell_type": "code",
   "metadata": {
    "ExecuteTime": {
     "end_time": "2024-09-11T07:36:42.808355Z",
     "start_time": "2024-09-11T07:36:23.993111Z"
    }
   },
   "source": [
    "@openai.call(\"gpt-4o-mini\")\n",
    "@prompt_template(\"Generate a {length} {genre} story\")\n",
    "def generate_story(genre: str, length: str): ...\n",
    "\n",
    "\n",
    "@openai.call(\"gpt-4o-mini\")\n",
    "@prompt_template(\"Analyze the tone of this story: {story}\")\n",
    "def analyze_tone(story: str): ...\n",
    "\n",
    "\n",
    "@openai.call(\"gpt-4o-mini\")\n",
    "@prompt_template(\"Rewrite this {genre} story in a {tone} tone: {story}\")\n",
    "def rewrite_story(story: str, genre: str, tone: str) -> openai.OpenAIDynamicConfig:\n",
    "    return {\n",
    "        \"computed_fields\": {\n",
    "            \"story\": story,\n",
    "            \"genre\": genre,\n",
    "            \"tone\": analyze_tone(story).content,\n",
    "        }\n",
    "    }\n",
    "\n",
    "\n",
    "original_story = generate_story(\"mystery\", \"short\").content\n",
    "rewritten_story = rewrite_story(original_story, \"mystery\", \"suspenseful\")\n",
    "\n",
    "print(\"Original Story:\", original_story)\n",
    "print(\"\\nRewritten Story:\", rewritten_story.content)\n",
    "print(\"\\nComputed Fields:\", rewritten_story.dynamic_config[\"computed_fields\"])"
   ],
   "outputs": [
    {
     "name": "stdout",
     "output_type": "stream",
     "text": [
      "Original Story: **Title: The Whispering Shadows**\n",
      "\n",
      "On the outskirts of the small town of Eldridge, an old manor stood shrouded in mist and legend. The townsfolk spoke of strange occurrences within its walls—wails that echoed at midnight, flickering lights in the windows when no one was supposed to be home. Despite its crumbling facade, the manor held a magnetic pull that drew in daring souls, including Clara, a young journalist hungry for a story.\n",
      "\n",
      "One chilly October evening, Clara arrived armed with her camera and a flashlight, determined to uncover the truth behind the manor's dark reputation. The door creaked open with a gentle push, revealing a dimly lit foyer filled with shadows. Clara felt a chill run down her spine but brushed it off. She needed to focus.\n",
      "\n",
      "As she explored the ground floor, a faint sound caught her attention—the soft whisper of what seemed like a name. “Elizabeth…” It echoed from somewhere deep within the house. Intrigued, Clara followed the sound up the grand staircase, where the whispers intensified, beckoning her onward.\n",
      "\n",
      "Reaching the second floor, Clara paused in front of a door slightly ajar. Mustering her courage, she pushed it open and entered a dusty bedroom. Moonlight spilled in through the cracked window, illuminating an ornate mirror. The whispers suddenly ceased, replaced by an oppressive silence. Clara moved closer to the mirror and gasped. Reflected in the glass was a woman in a Victorian gown, her face pale and sorrowful.\n",
      "\n",
      "“Help me…” the apparition whispered, her lips moving in a silent plea. Clara blinked, yet the figure remained. “Who are you? What happened?” she asked, her voice trembling.\n",
      "\n",
      "“I am Elizabeth… trapped in this place,” the ghost replied, her voice now resonating in Clara’s mind. “You must find the truth. The secrets of the past keep me here.”\n",
      "\n",
      "Driven by a sudden urgency, Clara began to investigate the room. She rummaged through drawers and dusty books, uncovering an old journal hidden beneath a floorboard. It belonged to Elizabeth, detailing her life in the manor, a tale of love and betrayal. Clara learned that Elizabeth had been accused of a crime she didn’t commit, leading to her untimely death in the very room Clara stood in.\n",
      "\n",
      "Just then, the temperature dropped, and the door slammed shut, trapping Clara inside. Fear surged through her, but Elizabeth's sorrowful gaze filled her with determination. Clara quickly flipped through the journal, searching for clues. She discovered a name—Henry, Elizabeth’s lover, who had vanished after her death.\n",
      "\n",
      "The whispers returned, more frantic now. “You must set me free! Find him!”\n",
      "\n",
      "Taking a deep breath, Clara realized what she needed to do. She took a photo of the journal’s last entry and slipped it into her pocket. She would find Henry, confront the truth, and tell Elizabeth’s story. \n",
      "\n",
      "With newfound resolve, Clara rattled the door, managing to force it open and escape. As she stepped back into the night, she felt a rush of cold air behind her, a silent thank you. \n",
      "\n",
      "Over the following weeks, Clara dug into historical records and eventually found Henry’s grave in a nearby town. He had lived for decades with the weight of his guilt, never revealing the truth behind Elizabeth’s innocence. \n",
      "\n",
      "When Clara published her article, the town recoiled in shock. What had been dismissed as mere ghost stories now held the tragic echoes of a love lost to misunderstanding. With Elizabeth’s story told, the restless energy that had cloaked the manor began to fade. \n",
      "\n",
      "Months later, as Clara stood before the now-silent manor, she felt a sense of peace. The whispers had ceased, and perhaps, just perhaps, Elizabeth had finally found her freedom.\n",
      "\n",
      "Rewritten Story: **Title: The Whispering Shadows**\n",
      "\n",
      "Nestled on the outskirts of the small town of Eldridge, an ancient manor loomed, draped in a heavy veil of mist and cloaked in haunting legends. Whispers danced through the air, tales spun by the townsfolk of eerie wails piercing the midnight stillness and flickering lights that danced in windows long devoid of life. Though the manor's once-grand facade had crumbled into decay, it emanated an undeniable allure that drew in adventurous souls—among them, Clara, a young journalist with a relentless thirst for truth.\n",
      "\n",
      "On a fierce October evening, Clara approached the manor, her heart a mix of trepidation and excitement, armed with a camera and flashlight. The door groaned in protest as she pushed it open, revealing a dim foyer steeped in shadows. A chill coursed down her spine, yet she brushed it aside; she was here to uncover the manor's secrets.\n",
      "\n",
      "As Clara roamed the dusty ground floor, a faint sound tugged at her consciousness—the soft, echoing whisper of a name, piercing the otherwise oppressive quiet. “Elizabeth…” emerged from the depths, a haunting beckon. Intrigued, Clara felt an invisible string pulling her up the grand staircase, the whispers weaving a tapestry of urgency in her ear.\n",
      "\n",
      "On the second floor, she paused before a door slightly ajar. Heart racing, she pushed it open and stepped into a sepulchral bedroom dusted in time's neglect. Moonlight cascaded through the cracked window, illuminating an ornate mirror that shimmered with spectral light. Clara drew closer, her breath hitching in wonder and fear as she gazed into the reflective depths, where a woeful figure in a Victorian gown materialized, her face a tapestry of sorrow.\n",
      "\n",
      "“Help me…” the figure implored, her lips moving in silent anguish. Clara's pulse quickened. “Who are you? What binds you here?” she stammered, the air thick with tension.\n",
      "\n",
      "“I am Elizabeth… trapped within these walls,” the apparition replied, her voice echoing within the corridors of Clara's mind. “Unravel the truth that anchors me to this place.”\n",
      "\n",
      "Compelled by an urgent force, Clara scoured the room, her fingers sifting through dust-laden drawers and forsaken tomes, until she unearthed an ancient journal buried beneath a creaking floorboard. It belonged to Elizabeth, a poignant chronicle of her life and love, marred by betrayal and wrongful accusation. As Clara absorbed Elizabeth’s tragic narrative, she realized the abrupt end to the tale: a life extinguished by a fate not of her choosing, in the very room where Clara now stood.\n",
      "\n",
      "Just then, a bone-chilling draft swept through the room, and the door slammed shut, imprisoning Clara within. Panic surged, but she steadied her breath, her resolve ignited by Elizabeth's haunting gaze. With fervor, Clara flipped through the pages of the journal, seeking illumination. A name surfaced—a name that would shatter the silence: Henry, Elizabeth’s beloved, who vanished as shadows fell upon her demise.\n",
      "\n",
      "The whispers crescendoed, frantic and urgent. “You must set me free! Find him!”\n",
      "\n",
      "In that moment, Clara understood her purpose. She snapped a photo of the journal’s final entry and slipped it into her pocket, an anchor to Elizabeth's truth. With steely determination, she rattled the door, desperation fueling her strength, and at last, it yielded to her will, expelling her into the night. As she stepped outside, a breath of cold air brushed past her—a silent gratitude, a whisper of liberation.\n",
      "\n",
      "In the weeks that followed, Clara unearthed remnants of the past, pouring over historical records until, at long last, she found Henry’s grave in a nearby town. The weight of decades pressed heavily upon him as he bore the burden of guilt, shackled to the truth of Elizabeth’s innocence. \n",
      "\n",
      "When Clara's article reached the town, a hush enveloped Eldridge. What had once been dismissed as mere folklore transformed into the tragic echoes of love entwined with misunderstanding. With Elizabeth’s story laid bare, the malevolent energy that had loomed over the manor began to dissipate, like fog surrendering to the dawn.\n",
      "\n",
      "Months later, Clara stood before the now-silent manor, its ominous presence softened by the passage of time. The whispers that once filled the air had finally faded, leaving behind a palpable tranquility. And in that hushed moment, Clara felt a profound sense of peace, a quiet assurance that perhaps, at long last, Elizabeth had embraced the freedom she so desperately sought. The shadows had whispered their secrets, and in their wake lay the remnants of love, justice, and healing—a tale at once eerie and beautifully resolved.\n",
      "\n",
      "Computed Fields: {'story': \"**Title: The Whispering Shadows**\\n\\nOn the outskirts of the small town of Eldridge, an old manor stood shrouded in mist and legend. The townsfolk spoke of strange occurrences within its walls—wails that echoed at midnight, flickering lights in the windows when no one was supposed to be home. Despite its crumbling facade, the manor held a magnetic pull that drew in daring souls, including Clara, a young journalist hungry for a story.\\n\\nOne chilly October evening, Clara arrived armed with her camera and a flashlight, determined to uncover the truth behind the manor's dark reputation. The door creaked open with a gentle push, revealing a dimly lit foyer filled with shadows. Clara felt a chill run down her spine but brushed it off. She needed to focus.\\n\\nAs she explored the ground floor, a faint sound caught her attention—the soft whisper of what seemed like a name. “Elizabeth…” It echoed from somewhere deep within the house. Intrigued, Clara followed the sound up the grand staircase, where the whispers intensified, beckoning her onward.\\n\\nReaching the second floor, Clara paused in front of a door slightly ajar. Mustering her courage, she pushed it open and entered a dusty bedroom. Moonlight spilled in through the cracked window, illuminating an ornate mirror. The whispers suddenly ceased, replaced by an oppressive silence. Clara moved closer to the mirror and gasped. Reflected in the glass was a woman in a Victorian gown, her face pale and sorrowful.\\n\\n“Help me…” the apparition whispered, her lips moving in a silent plea. Clara blinked, yet the figure remained. “Who are you? What happened?” she asked, her voice trembling.\\n\\n“I am Elizabeth… trapped in this place,” the ghost replied, her voice now resonating in Clara’s mind. “You must find the truth. The secrets of the past keep me here.”\\n\\nDriven by a sudden urgency, Clara began to investigate the room. She rummaged through drawers and dusty books, uncovering an old journal hidden beneath a floorboard. It belonged to Elizabeth, detailing her life in the manor, a tale of love and betrayal. Clara learned that Elizabeth had been accused of a crime she didn’t commit, leading to her untimely death in the very room Clara stood in.\\n\\nJust then, the temperature dropped, and the door slammed shut, trapping Clara inside. Fear surged through her, but Elizabeth's sorrowful gaze filled her with determination. Clara quickly flipped through the journal, searching for clues. She discovered a name—Henry, Elizabeth’s lover, who had vanished after her death.\\n\\nThe whispers returned, more frantic now. “You must set me free! Find him!”\\n\\nTaking a deep breath, Clara realized what she needed to do. She took a photo of the journal’s last entry and slipped it into her pocket. She would find Henry, confront the truth, and tell Elizabeth’s story. \\n\\nWith newfound resolve, Clara rattled the door, managing to force it open and escape. As she stepped back into the night, she felt a rush of cold air behind her, a silent thank you. \\n\\nOver the following weeks, Clara dug into historical records and eventually found Henry’s grave in a nearby town. He had lived for decades with the weight of his guilt, never revealing the truth behind Elizabeth’s innocence. \\n\\nWhen Clara published her article, the town recoiled in shock. What had been dismissed as mere ghost stories now held the tragic echoes of a love lost to misunderstanding. With Elizabeth’s story told, the restless energy that had cloaked the manor began to fade. \\n\\nMonths later, as Clara stood before the now-silent manor, she felt a sense of peace. The whispers had ceased, and perhaps, just perhaps, Elizabeth had finally found her freedom.\", 'genre': 'mystery', 'tone': 'The tone of \"The Whispering Shadows\" can be characterized as eerie and suspenseful, interwoven with a sense of melancholy and resolution. The story engages with themes of mystery and the supernatural, creating an atmosphere of intrigue and tension that invites the reader to explore the haunting elements of the manor and its tragic history. \\n\\nInitially, the tone is atmospheric and foreboding, as Clara approaches the old manor surrounded by local legends and ghostly whispers. Phrases like “shrouded in mist and legend,” and descriptions of strange occurrences set an ominous backdrop, establishing a feeling of unease. Clara\\'s brave yet cautious demeanor adds to the tension, emphasizing her determination in the face of potential danger.\\n\\nAs Clara encounters the ghost of Elizabeth, the tone shifts slightly to convey a deeper emotional resonance. The sorrowful plea of Elizabeth, along with her tragic backstory of love and betrayal, infuses the narrative with a sense of melancholy. This emotional depth enhances the reader\\'s connection to both Clara’s quest and Elizabeth\\'s plight, further intensifying the suspense as Clara navigates the mystery.\\n\\nThe climax of the story brings a transformation in tone from fear and urgency to empowerment and resolution. Clara\\'s determination to uncover the truth and help Elizabeth creates a sense of hope. As she discovers and subsequently tells Elizabeth\\'s story, the tone shifts towards closure and liberation. The haunting whispers fade, symbolizing not just the resolution of Elizabeth\\'s ghostly presence but also a release from the burdens of the past.\\n\\nUltimately, the story balances elements of horror with poignant themes of love, injustice, and redemption. The concluding sense of peace reflects a tone of resolution and healing, indicating that the shadows that once whispered in the manor have found their end, and the cycle of tragedy has been broken. This nuanced tone enhances the overall impact of the story, leaving readers with a feeling of introspection alongside the eerie allure of the supernatural.'}\n"
     ]
    }
   ],
   "execution_count": 6
  },
  {
   "cell_type": "markdown",
   "metadata": {},
   "source": [
    "### Error Handling in Chains\n",
    "\n",
    "Implementing robust error handling is crucial in complex chains."
   ]
  },
  {
   "cell_type": "code",
   "metadata": {
    "ExecuteTime": {
     "end_time": "2024-09-11T07:36:53.617702Z",
     "start_time": "2024-09-11T07:36:52.377724Z"
    }
   },
   "source": [
    "from openai import OpenAIError\n",
    "\n",
    "\n",
    "@openai.call(\"gpt-4o-mini\")\n",
    "@prompt_template(\"Summarize this text: {text}\")\n",
    "def summarize(text: str): ...\n",
    "\n",
    "\n",
    "@openai.call(\"gpt-4o-mini\")\n",
    "@prompt_template(\"Translate this text to {language}: {text}\")\n",
    "def translate(text: str, language: str): ...\n",
    "\n",
    "\n",
    "def process_text_with_error_handling(text: str, target_language: str):\n",
    "    try:\n",
    "        summary = summarize(text).content\n",
    "    except OpenAIError as e:\n",
    "        print(f\"Error during summarization: {e}\")\n",
    "        summary = text  # Fallback to original text if summarization fails\n",
    "\n",
    "    try:\n",
    "        translation = translate(summary, target_language).content\n",
    "        return translation\n",
    "    except OpenAIError as e:\n",
    "        print(f\"Error during translation: {e}\")\n",
    "        return summary  # Fallback to summary if translation fails\n",
    "\n",
    "\n",
    "result = process_text_with_error_handling(\"Long text here...\", \"French\")\n",
    "print(\"Processed Result:\", result)"
   ],
   "outputs": [
    {
     "name": "stdout",
     "output_type": "stream",
     "text": [
      "Processed Result: Bien sûr ! Veuillez fournir le texte que vous aimeriez que je résume.\n"
     ]
    }
   ],
   "execution_count": 7
  },
  {
   "cell_type": "markdown",
   "metadata": {},
   "source": [
    "## Conclusion\n",
    "\n",
    "This notebook has demonstrated various techniques for using Dynamic Configuration and Chaining in Mirascope. These powerful features allow you to create flexible, efficient, and complex LLM-powered applications. By combining these techniques, you can build sophisticated AI systems that can adapt to different inputs and requirements while maintaining robustness and traceability.\n",
    "\n",
    "Remember to always consider error handling, especially in complex chains, to ensure your applications are resilient to potential issues that may arise during LLM calls or processing steps."
   ]
  }
 ],
 "metadata": {
  "kernelspec": {
   "display_name": "Python 3 (ipykernel)",
   "language": "python",
   "name": "python3"
  },
  "language_info": {
   "name": "python"
  }
 },
 "nbformat": 4,
 "nbformat_minor": 2
}
