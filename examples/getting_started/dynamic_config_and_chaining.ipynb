{
 "cells": [
  {
   "cell_type": "markdown",
   "metadata": {},
   "source": [
    "# Dynamic Configuration and Chaining in Mirascope\n",
    "\n",
    "This notebook provides a detailed introduction to using Dynamic Configuration and Chaining in Mirascope. We'll cover various examples ranging from basic usage to more complex chaining techniques.\n",
    "\n",
    "For more information on these topics, refer to the following documentation:\n",
    "- [Dynamic Configuration](https://docs.mirascope.io/learn/dynamic_configuration/)\n",
    "- [Chaining](https://docs.mirascope.io/learn/chaining/)\n",
    "\n",
    "1. [Setup](#Setup)\n",
    "2. [Dynamic Configuration](#Dynamic-Configuration)\n",
    "   - [Basic Usage](#Basic-Usage)\n",
    "   - [Computed Fields](#Computed-Fields)\n",
    "   - [Dynamic Tools](#Dynamic-Tools)\n",
    "3. [Chaining](#Chaining)\n",
    "   - [Function-based Chaining](#Function-based-Chaining)\n",
    "   - [Chaining with Computed Fields](#Chaining-with-Computed-Fields)\n",
    "4. [Advanced Techniques](#Advanced-Techniques)\n",
    "   - [Combining Dynamic Config and Chaining](#Combining-Dynamic-Config-and-Chaining)\n",
    "   - [Error Handling in Chains](#Error-Handling-in-Chains)\n",
    "5. [Conclusion](#Conclusion)"
   ]
  },
  {
   "cell_type": "markdown",
   "metadata": {},
   "source": [
    "## Setup\n",
    "\n",
    "First, let's install Mirascope and set up our environment. We'll use OpenAI for our examples, but you can adapt these to other providers supported by Mirascope. For more information on supported providers, see the [Calls documentation](https://docs.mirascope.io/learn/calls/)."
   ]
  },
  {
   "cell_type": "code",
   "execution_count": null,
   "metadata": {},
   "outputs": [],
   "source": [
    "!pip install \"mirascope[openai]\""
   ]
  },
  {
   "cell_type": "code",
   "execution_count": null,
   "metadata": {},
   "outputs": [],
   "source": [
    "import os\n",
    "\n",
    "os.environ[\"OPENAI_API_KEY\"] = \"your-api-key-here\""
   ]
  },
  {
   "cell_type": "markdown",
   "metadata": {},
   "source": [
    "## Dynamic Configuration\n",
    "\n",
    "Dynamic Configuration in Mirascope allows you to modify the behavior of LLM calls at runtime based on input arguments or other conditions. For more details, see the [Dynamic Configuration documentation](https://docs.mirascope.io/learn/dynamic_configuration/).\n",
    "\n",
    "### Basic Usage"
   ]
  },
  {
   "cell_type": "code",
   "execution_count": 1,
   "metadata": {
    "ExecuteTime": {
     "end_time": "2024-09-11T07:36:01.762693Z",
     "start_time": "2024-09-11T07:35:57.078707Z"
    }
   },
   "outputs": [
    {
     "name": "stdout",
     "output_type": "stream",
     "text": [
      "Low creativity: I recommend \"The Girl with the Dragon Tattoo\" by Stieg Larsson. This gripping mystery novel follows journalist Mikael Blomkvist and hacker Lisbeth Salander as they investigate the decades-old disappearance of a wealthy industrialist's niece. The story weaves together themes of family secrets, corruption, and revenge, all while keeping readers on the edge of their seats with its intricate plot and well-developed characters. It's a compelling read that has captivated audiences worldwide. Enjoy!\n",
      "High creativity: I recommend \"The Girl with the Dragon Tattoo\" by Stieg Larsson. This gripping mystery novel follows journalist Mikael Blomkvist and hacker Lisbeth Salander as they investigate the decades-old disappearance of a wealthy industrialist's niece. The story weaves together themes of family secrets, corruption, and vengeance, making it a compelling read that keeps you guessing until the end. If you enjoy intricate plots and strong character development, this book is a great choice!\n"
     ]
    }
   ],
   "source": [
    "from mirascope.core import openai, prompt_template\n",
    "\n",
    "\n",
    "@openai.call(\"gpt-4o-mini\")\n",
    "@prompt_template(\"Recommend a {genre} book\")\n",
    "def recommend_book(genre: str, creativity: float) -> openai.OpenAIDynamicConfig:\n",
    "    return {\"call_params\": {\"temperature\": creativity}}\n",
    "\n",
    "\n",
    "# Low creativity recommendation\n",
    "response = recommend_book(\"mystery\", 0.2)\n",
    "print(\"Low creativity:\", response.content)\n",
    "\n",
    "# High creativity recommendation\n",
    "response = recommend_book(\"mystery\", 0.8)\n",
    "print(\"High creativity:\", response.content)"
   ]
  },
  {
   "cell_type": "markdown",
   "metadata": {},
   "source": [
    "### Computed Fields\n",
    "\n",
    "Computed fields allow you to dynamically generate or modify template variables used in your prompt. For more information on prompt templates, see the [Prompts documentation](https://docs.mirascope.io/learn/prompts/)."
   ]
  },
  {
   "cell_type": "code",
   "execution_count": 2,
   "metadata": {
    "ExecuteTime": {
     "end_time": "2024-09-11T07:36:06.480670Z",
     "start_time": "2024-09-11T07:36:05.149070Z"
    }
   },
   "outputs": [
    {
     "name": "stdout",
     "output_type": "stream",
     "text": [
      "A great recommendation for a young adult fantasy book is **\"Six of Crows\" by Leigh Bardugo**. This novel features a group of misfits who come together to pull off an impossible heist in a richly imagined world filled with magic, intrigue, and complex characters. The story is fast-paced and full of twists, making it a captivating read for young adults. Plus, the themes of friendship, loyalty, and redemption resonate well with that age group. Enjoy!\n"
     ]
    }
   ],
   "source": [
    "@openai.call(\"gpt-4o-mini\")\n",
    "@prompt_template(\"Recommend a {genre} book with a reading level of {reading_level}\")\n",
    "def recommend_book_by_age(genre: str, age: int) -> openai.OpenAIDynamicConfig:\n",
    "    reading_level = \"adult\"\n",
    "    if age < 12:\n",
    "        reading_level = \"elementary\"\n",
    "    elif age < 18:\n",
    "        reading_level = \"young adult\"\n",
    "    return {\"computed_fields\": {\"reading_level\": reading_level}}\n",
    "\n",
    "\n",
    "response = recommend_book_by_age(\"fantasy\", 15)\n",
    "print(response.content)"
   ]
  },
  {
   "cell_type": "markdown",
   "metadata": {},
   "source": [
    "### Dynamic Tools\n",
    "\n",
    "You can dynamically configure which tools are available to the LLM based on runtime conditions. Here's a simple example using a basic tool function:"
   ]
  },
  {
   "cell_type": "code",
   "execution_count": 3,
   "metadata": {
    "ExecuteTime": {
     "end_time": "2024-09-11T07:36:09.151739Z",
     "start_time": "2024-09-11T07:36:08.392083Z"
    }
   },
   "outputs": [
    {
     "name": "stdout",
     "output_type": "stream",
     "text": [
      "The Girl with the Dragon Tattoo by Stieg Larsson (Mystery)\n"
     ]
    }
   ],
   "source": [
    "def format_book(title: str, author: str, genre: str) -> str:\n",
    "    \"\"\"Format a book recommendation.\"\"\"\n",
    "    return f\"{title} by {author} ({genre})\"\n",
    "\n",
    "\n",
    "@openai.call(\"gpt-4o-mini\")\n",
    "@prompt_template(\"Recommend a {genre} book\")\n",
    "def recommend_book_with_tool(genre: str) -> openai.OpenAIDynamicConfig:\n",
    "    return {\"tools\": [format_book]}\n",
    "\n",
    "\n",
    "response = recommend_book_with_tool(\"mystery\")\n",
    "if response.tool:\n",
    "    print(response.tool.call())\n",
    "else:\n",
    "    print(response.content)"
   ]
  },
  {
   "cell_type": "markdown",
   "metadata": {},
   "source": "For more advanced usage of tools, including the `BaseToolKit` class, please refer to the [Tools documentation](https://docs.mirascope.io/latest/learn/tools/) and the [Tools and Agents Getting Started Guide](https://docs.mirascope.io/latest/cookbook/agents/)."
  },
  {
   "cell_type": "markdown",
   "metadata": {},
   "source": [
    "## Chaining\n",
    "\n",
    "Chaining in Mirascope allows you to combine multiple LLM calls or operations in a sequence to solve complex tasks. Let's explore two main approaches to chaining: function-based chaining and chaining with computed fields.\n",
    "\n",
    "### Function-based Chaining\n",
    "\n",
    "In function-based chaining, you call multiple functions in sequence, passing the output of one function as input to the next. This approach requires you to manage the sequence of calls manually."
   ]
  },
  {
   "cell_type": "code",
   "execution_count": 4,
   "metadata": {
    "ExecuteTime": {
     "end_time": "2024-09-11T07:36:16.594586Z",
     "start_time": "2024-09-11T07:36:15.294731Z"
    }
   },
   "outputs": [
    {
     "name": "stdout",
     "output_type": "stream",
     "text": [
      "Bien sûr ! Veuillez fournir le texte que vous aimeriez résumer, et je serai ravi de vous aider.\n"
     ]
    }
   ],
   "source": [
    "@openai.call(\"gpt-4o-mini\")\n",
    "@prompt_template(\"Summarize this text: {text}\")\n",
    "def summarize(text: str): ...\n",
    "\n",
    "\n",
    "@openai.call(\"gpt-4o-mini\")\n",
    "@prompt_template(\"Translate this text to {language}: {text}\")\n",
    "def translate(text: str, language: str): ...\n",
    "\n",
    "\n",
    "original_text = \"Long English text here...\"\n",
    "summary = summarize(original_text)\n",
    "translation = translate(summary.content, \"french\")\n",
    "print(translation.content)"
   ]
  },
  {
   "cell_type": "markdown",
   "metadata": {},
   "source": [
    "### Chaining with Computed Fields\n",
    "\n",
    "Chaining with computed fields allows you to encapsulate multiple steps within a single function call. This approach provides better traceability and allows you to access the full chain of operations in the response of a single function, rather than having to call and track them separately in sequence."
   ]
  },
  {
   "cell_type": "code",
   "execution_count": 5,
   "metadata": {
    "ExecuteTime": {
     "end_time": "2024-09-11T07:36:20.903239Z",
     "start_time": "2024-09-11T07:36:19.838736Z"
    }
   },
   "outputs": [
    {
     "name": "stdout",
     "output_type": "stream",
     "text": [
      "Translation: Bien sûr ! Veuillez fournir le texte que vous souhaitez résumer.\n",
      "\n",
      "Computed fields (including summary): {'summary': OpenAICallResponse(metadata={}, response=ChatCompletion(id='chatcmpl-A6CBgZpwtN1VFqr82MgeOeg01CGue', choices=[Choice(finish_reason='stop', index=0, logprobs=None, message=ChatCompletionMessage(content=\"Sure! Please provide the text you'd like summarized.\", refusal=None, role='assistant', function_call=None, tool_calls=None))], created=1726040180, model='gpt-4o-mini-2024-07-18', object='chat.completion', service_tier=None, system_fingerprint='fp_483d39d857', usage=CompletionUsage(completion_tokens=10, prompt_tokens=18, total_tokens=28)), tool_types=None, prompt_template='Summarize this text: {text}', fn_args={'text': 'Long English text here...'}, dynamic_config=None, messages=[{'role': 'user', 'content': 'Summarize this text: Long English text here...'}], call_params={}, call_kwargs={'model': 'gpt-4o-mini', 'messages': [{'role': 'user', 'content': 'Summarize this text: Long English text here...'}]}, user_message_param={'content': 'Summarize this text: Long English text here...', 'role': 'user'}, start_time=1726040179855.303, end_time=1726040180415.7542, message_param={'content': \"Sure! Please provide the text you'd like summarized.\", 'refusal': None, 'role': 'assistant', 'tool_calls': None}, tools=None, tool=None)}\n"
     ]
    }
   ],
   "source": [
    "@openai.call(\"gpt-4o-mini\")\n",
    "@prompt_template(\"Summarize this text: {text}\")\n",
    "def summarize(text: str): ...\n",
    "\n",
    "\n",
    "@openai.call(\"gpt-4o-mini\")\n",
    "@prompt_template(\"Translate this text to {language}: {summary}\")\n",
    "def summarize_and_translate(text: str, language: str) -> openai.OpenAIDynamicConfig:\n",
    "    return {\"computed_fields\": {\"summary\": summarize(text)}}\n",
    "\n",
    "\n",
    "response = summarize_and_translate(\"Long English text here...\", \"french\")\n",
    "print(\"Translation:\", response.content)\n",
    "print(\n",
    "    \"\\nComputed fields (including summary):\", response.dynamic_config[\"computed_fields\"]\n",
    ")"
   ]
  },
  {
   "cell_type": "markdown",
   "metadata": {},
   "source": [
    "As you can see, with computed fields, you get access to both the final translation and the intermediate summary in a single response. This approach provides better traceability and can be particularly useful for debugging and understanding the entire chain of operations without the need to manage multiple separate function calls."
   ]
  },
  {
   "cell_type": "markdown",
   "metadata": {},
   "source": [
    "## Advanced Techniques\n",
    "\n",
    "### Combining Dynamic Config and Chaining\n",
    "\n",
    "This example demonstrates how to use dynamic configuration within a chain of operations, all encapsulated within a single function call using computed fields."
   ]
  },
  {
   "cell_type": "code",
   "metadata": {
    "ExecuteTime": {
     "end_time": "2024-09-12T01:07:44.419773Z",
     "start_time": "2024-09-12T01:07:27.945838Z"
    }
   },
   "source": [
    "@openai.call(\"gpt-4o-mini\")\n",
    "@prompt_template(\"Generate a {length} {genre} story\")\n",
    "def generate_story(genre: str, length: str): ...\n",
    "\n",
    "\n",
    "@openai.call(\"gpt-4o-mini\")\n",
    "@prompt_template(\"Analyze the tone of this story: {story}\")\n",
    "def analyze_tone(story: str): ...\n",
    "\n",
    "\n",
    "@openai.call(\"gpt-4o-mini\")\n",
    "@prompt_template(\"Rewrite this {genre} story in a {tone} tone: {story}\")\n",
    "def rewrite_story(story: str, genre: str, tone: str) -> openai.OpenAIDynamicConfig:\n",
    "    return {\n",
    "        \"computed_fields\": {\"story\": story, \"genre\": genre, \"tone\": analyze_tone(story)}\n",
    "    }\n",
    "\n",
    "\n",
    "original_story = generate_story(\"mystery\", \"short\").content\n",
    "rewritten_story = rewrite_story(original_story, \"mystery\", \"suspenseful\")\n",
    "\n",
    "print(\"Original Story:\", original_story)\n",
    "print(\"\\nRewritten Story:\", rewritten_story.content)\n",
    "print(\"\\nComputed Fields:\", rewritten_story.dynamic_config[\"computed_fields\"])"
   ],
   "outputs": [
    {
     "name": "stdout",
     "output_type": "stream",
     "text": [
      "Original Story: **The Vanishing Star**\n",
      "\n",
      "On the quiet outskirts of the small town of Eldridge Hollow, a mysterious event had caught the attention of the townsfolk. Every twenty years, during the peak of the Perseid meteor shower, the town’s beloved antique clock tower chimed precisely at midnight, signaling the arrival of a rare celestial phenomenon: the Vanishing Star. Legend had it that whoever saw the star would be granted a single wish, but only if they could solve the riddle of the clock tower.\n",
      "\n",
      "As the night of the meteor shower approached, excitement buzzed through the air. Eleanor, a tenacious young journalist with a penchant for mysteries, decided to investigate. She was intrigued not only by the legend but also by whispers of a recent series of unusual occurrences surrounding the clock tower—a series of stolen artifacts and a sudden disappearance of the town’s beloved historian, Mr. Hargrove.\n",
      "\n",
      "Eleanor arrived at the clock tower just before midnight on the night of the meteor shower. The sky was clear, and the townspeople had gathered, their eyes glued to the heavens. She noticed an old, leather-bound book resting on a bench—a diary belonging to Mr. Hargrove. As she flipped through its pages, she was captivated by his detailed notes on the Vanishing Star. One entry stood out: “When the clock strikes twelve, the truth shall reveal itself. But the riddle lies with the keeper of time.”\n",
      "\n",
      "An echoing clang reverberated through the night; it was midnight. The clock struck twelve, its hands frozen at the hour beneath a blanket of stars. Suddenly, the townspeople gasped. The clock tower’s face shimmered, and a blue light pulsed from within, painting the night sky.\n",
      "\n",
      "Eleanor felt a chill as shadows danced around her. It was the keeper of time—the enigmatic figure said to be bound to the clock tower. Leaning close to inspect, she spotted a glint behind the clock’s gears. With a gasp, she uncovered a hidden compartment, revealing a magnificent jeweled star pendant and a note: “To the worthy, a choice; to the unworthy, a loss.”\n",
      "\n",
      "Her heart raced. This must have been the motive behind the recent thefts! Just then, a figure emerged from the shadows—it was Mr. Hargrove. Pale but alive. “You found it!” he said breathlessly. “I was trying to protect the pendant from a group intent on using its power for greed. They thought I could help them unlock the clock’s secrets.”\n",
      "\n",
      "Eleanor held the pendant tightly, feeling its pulse in her palm. “But why not reveal it? Why hide?”\n",
      "\n",
      "“The wish it grants is dangerous,” he warned. “Only pure intentions may succeed.”\n",
      "\n",
      "As the stars cascaded across the sky, the townspeople watched in awe. Eleanor faced a choice—she could wish for the truth behind the artifacts or for the safety of the town. Remembering Mr. Hargrove's words, she raised the pendant high.\n",
      "\n",
      "“I wish for the safety of Eldridge Hollow!”\n",
      "\n",
      "The pendant glowed brighter and shattered into a million sparkling shards, casting light everywhere. The mysterious figure of the keeper vanished, and so did the dark intentions of those lurking in the shadows.\n",
      "\n",
      "The meteor shower rained down, showering the town with brilliance. Everyone was safe. Eleanor felt a warmth inside her; they would rebuild and protect their history together. The Vanishing Star had not granted riches or fame, but a promise—the wish of a protector for the town.\n",
      "\n",
      "As dawn broke over Eldridge Hollow, Eleanor looked out at the clock tower, now silent but shimmering in the early light. She smiled, knowing that some mysteries are best left unsolved, especially when the truth is a treasure all its own.\n",
      "\n",
      "Rewritten Story: On the whimsical edge of Eldridge Hollow, where time seemed to waltz with the moonbeams, the townsfolk buzzed with an excitement that danced in the air like the shimmering stars above. Every twenty years, on the shimmering night of the Perseid meteor shower, their beloved antique clock tower would chime precisely at midnight, marking the arrival of the elusive Vanishing Star. Legend whispered that whoever beheld this radiant wonder would be granted a single wish, but only if they could unravel the riddle of the clock tower’s guardian, a figure said to embody time itself.\n",
      "\n",
      "As the fateful night drew near, the atmosphere was thick with anticipation, almost magical. Eleanor, our intrepid young journalist, was drawn to the mystery like a moth to a flickering flame. Her heart raced, not just for the allure of the star, but for the puzzling happenings that had unfolded around the clock tower: a series of puzzling thefts and the baffling disappearance of the town's cherished historian, Mr. Hargrove.\n",
      "\n",
      "On the enchanted evening of the meteor shower, Eleanor arrived at the clock tower just before the hands reached midnight. The stars glittered like cosmic confetti, while the townspeople gathered with hopeful eyes turned skyward. She noticed an old leather-bound book resting on a picturesque bench—a diary belonging to Mr. Hargrove himself! Eagerly, she flipped through its pages, her heart fluttering with each revelation. One entry stood out like a beacon: “When the clock strikes twelve, the truth shall reveal itself. But the riddle lies with the keeper of time.”\n",
      "\n",
      "As the clock struck the magic hour with a melodious clang, awestruck gasps swept through the crowd. The clock tower, as if answering their hopes, shimmered, its face glowing with an ethereal blue light that danced across the charcoal sky.\n",
      "\n",
      "In that magical moment, shadows shifted, revealing the keeper of time—a majestic figure cloaked in the mysteries of the ages. Eleanor's heart raced as she spotted a glimmer amongst the clock’s ancient gears. With a courageous leap, she revealed a hidden compartment, unveiling an exquisite jeweled star pendant alongside a cryptic note: “To the worthy, a choice; to the unworthy, a loss.”\n",
      "\n",
      "Just as her heart swelled with discovery, a familiar figure stepped from the shadows—Mr. Hargrove! He appeared pale yet tenacious, his eyes reflecting the glow of hope. “You found it!” he exclaimed, his voice quavering. “I hid it to protect it from those who wished to wield its power for selfish desires.”\n",
      "\n",
      "Eleanor held the pendant tightly, its allure tempting her senses. “Why keep it secret?” she breathed, her mind racing.\n",
      "\n",
      "“The wish it grants is a double-edged sword,” he cautioned, his eyes earnest. “Only those with pure intentions may unlock its magic.”\n",
      "\n",
      "As the stars cascaded from above, enchanted townsfolk watched in wonder. Eleanor felt the weight of a choice pressing upon her; her heart pondered whether to wish for the truth behind the stolen artifacts or for the safety of her cherished town. Channeling the wisdom of Mr. Hargrove, she raised the pendant high into the soothing starlight.\n",
      "\n",
      "“I wish for the safety of Eldridge Hollow!” she proclaimed, her voice ringing with certainty.\n",
      "\n",
      "The pendant erupted into a breathtaking glow, shattering into a million sparkling shards that cascaded like fireworks, illuminating the night with hope and joy. The keeper of time vanished like a gentle sigh, along with any trace of the darkness that had lingered in the shadows.\n",
      "\n",
      "As the meteors fell like magical confetti, the town rejoiced, enveloped in the brilliance of newfound safety. Eleanor felt warmth bloom in her chest; they would rebuild their stories together, an indomitable tapestry woven from history and heart. Perhaps the Vanishing Star didn’t bestow riches or fame but offered something far more precious: a promise, a wish for the protector of their beloved town.\n",
      "\n",
      "With dawn painting the skyline in soft hues, Eleanor gazed fondly at the clock tower, now tranquil yet shimmering, a monument to both mystery and hope. A smile curled upon her lips as she reflected on the magic of that night, knowing that the finest treasures often lie not in the resolution of mysteries but in the bonds formed amidst whispers in the starlit sky. \n",
      "\n",
      "Computed Fields: {'story': \"**The Vanishing Star**\\n\\nOn the quiet outskirts of the small town of Eldridge Hollow, a mysterious event had caught the attention of the townsfolk. Every twenty years, during the peak of the Perseid meteor shower, the town’s beloved antique clock tower chimed precisely at midnight, signaling the arrival of a rare celestial phenomenon: the Vanishing Star. Legend had it that whoever saw the star would be granted a single wish, but only if they could solve the riddle of the clock tower.\\n\\nAs the night of the meteor shower approached, excitement buzzed through the air. Eleanor, a tenacious young journalist with a penchant for mysteries, decided to investigate. She was intrigued not only by the legend but also by whispers of a recent series of unusual occurrences surrounding the clock tower—a series of stolen artifacts and a sudden disappearance of the town’s beloved historian, Mr. Hargrove.\\n\\nEleanor arrived at the clock tower just before midnight on the night of the meteor shower. The sky was clear, and the townspeople had gathered, their eyes glued to the heavens. She noticed an old, leather-bound book resting on a bench—a diary belonging to Mr. Hargrove. As she flipped through its pages, she was captivated by his detailed notes on the Vanishing Star. One entry stood out: “When the clock strikes twelve, the truth shall reveal itself. But the riddle lies with the keeper of time.”\\n\\nAn echoing clang reverberated through the night; it was midnight. The clock struck twelve, its hands frozen at the hour beneath a blanket of stars. Suddenly, the townspeople gasped. The clock tower’s face shimmered, and a blue light pulsed from within, painting the night sky.\\n\\nEleanor felt a chill as shadows danced around her. It was the keeper of time—the enigmatic figure said to be bound to the clock tower. Leaning close to inspect, she spotted a glint behind the clock’s gears. With a gasp, she uncovered a hidden compartment, revealing a magnificent jeweled star pendant and a note: “To the worthy, a choice; to the unworthy, a loss.”\\n\\nHer heart raced. This must have been the motive behind the recent thefts! Just then, a figure emerged from the shadows—it was Mr. Hargrove. Pale but alive. “You found it!” he said breathlessly. “I was trying to protect the pendant from a group intent on using its power for greed. They thought I could help them unlock the clock’s secrets.”\\n\\nEleanor held the pendant tightly, feeling its pulse in her palm. “But why not reveal it? Why hide?”\\n\\n“The wish it grants is dangerous,” he warned. “Only pure intentions may succeed.”\\n\\nAs the stars cascaded across the sky, the townspeople watched in awe. Eleanor faced a choice—she could wish for the truth behind the artifacts or for the safety of the town. Remembering Mr. Hargrove's words, she raised the pendant high.\\n\\n“I wish for the safety of Eldridge Hollow!”\\n\\nThe pendant glowed brighter and shattered into a million sparkling shards, casting light everywhere. The mysterious figure of the keeper vanished, and so did the dark intentions of those lurking in the shadows.\\n\\nThe meteor shower rained down, showering the town with brilliance. Everyone was safe. Eleanor felt a warmth inside her; they would rebuild and protect their history together. The Vanishing Star had not granted riches or fame, but a promise—the wish of a protector for the town.\\n\\nAs dawn broke over Eldridge Hollow, Eleanor looked out at the clock tower, now silent but shimmering in the early light. She smiled, knowing that some mysteries are best left unsolved, especially when the truth is a treasure all its own.\", 'genre': 'mystery', 'tone': OpenAICallResponse(metadata={}, response=ChatCompletion(id='chatcmpl-A6Sb0d0AuS7cPPMO0g9ookA70A1Wd', choices=[Choice(finish_reason='stop', index=0, logprobs=None, message=ChatCompletionMessage(content='The tone of \"The Vanishing Star\" can be described as whimsical, suspenseful, and ultimately hopeful. \\n\\n1. **Whimsical**: The story contains elements of fantasy and mythology, particularly with the legend of the Vanishing Star and the magical aspects of the clock tower. The setting—a small town and its peculiar happenings—creates a sense of enchantment, inviting readers to immerse themselves in a world where wishes and celestial events hold significant meaning.\\n\\n2. **Suspenseful**: There is an underlying sense of mystery and tension throughout the narrative. Eleanor\\'s investigation into the recent thefts and the disappearance of Mr. Hargrove generates intrigue. The presence of the enigmatic figure, the keeper of time, further amplifies this suspense, especially as the clock strikes midnight and the countdown to the Vanishing Star’s appearance begins.\\n\\n3. **Hopeful**: The conclusion embodies a strong sense of hope and positivity. Eleanor\\'s selfless wish for the safety of her town, rather than for personal gain, underscores themes of community, protection, and the importance of pure intentions. The transformation of the pendant into sparkling shards serves as a metaphor for hope and renewal, suggesting that the real treasure lies not in material wealth but in the safety and unity of the town’s people.\\n\\nOverall, the story balances its elements of mystery and suspense with a hopeful resolution that emphasizes the strength of community and the value of selflessness. The tone effectively engages readers, drawing them into a narrative that is as much about individual choices and integrity as it is about the mystical events surrounding the Vanishing Star.', refusal=None, role='assistant', function_call=None, tool_calls=None))], created=1726103254, model='gpt-4o-mini-2024-07-18', object='chat.completion', service_tier=None, system_fingerprint='fp_483d39d857', usage=CompletionUsage(completion_tokens=319, prompt_tokens=773, total_tokens=1092)), tool_types=None, prompt_template='Analyze the tone of this story: {story}', fn_args={'story': \"**The Vanishing Star**\\n\\nOn the quiet outskirts of the small town of Eldridge Hollow, a mysterious event had caught the attention of the townsfolk. Every twenty years, during the peak of the Perseid meteor shower, the town’s beloved antique clock tower chimed precisely at midnight, signaling the arrival of a rare celestial phenomenon: the Vanishing Star. Legend had it that whoever saw the star would be granted a single wish, but only if they could solve the riddle of the clock tower.\\n\\nAs the night of the meteor shower approached, excitement buzzed through the air. Eleanor, a tenacious young journalist with a penchant for mysteries, decided to investigate. She was intrigued not only by the legend but also by whispers of a recent series of unusual occurrences surrounding the clock tower—a series of stolen artifacts and a sudden disappearance of the town’s beloved historian, Mr. Hargrove.\\n\\nEleanor arrived at the clock tower just before midnight on the night of the meteor shower. The sky was clear, and the townspeople had gathered, their eyes glued to the heavens. She noticed an old, leather-bound book resting on a bench—a diary belonging to Mr. Hargrove. As she flipped through its pages, she was captivated by his detailed notes on the Vanishing Star. One entry stood out: “When the clock strikes twelve, the truth shall reveal itself. But the riddle lies with the keeper of time.”\\n\\nAn echoing clang reverberated through the night; it was midnight. The clock struck twelve, its hands frozen at the hour beneath a blanket of stars. Suddenly, the townspeople gasped. The clock tower’s face shimmered, and a blue light pulsed from within, painting the night sky.\\n\\nEleanor felt a chill as shadows danced around her. It was the keeper of time—the enigmatic figure said to be bound to the clock tower. Leaning close to inspect, she spotted a glint behind the clock’s gears. With a gasp, she uncovered a hidden compartment, revealing a magnificent jeweled star pendant and a note: “To the worthy, a choice; to the unworthy, a loss.”\\n\\nHer heart raced. This must have been the motive behind the recent thefts! Just then, a figure emerged from the shadows—it was Mr. Hargrove. Pale but alive. “You found it!” he said breathlessly. “I was trying to protect the pendant from a group intent on using its power for greed. They thought I could help them unlock the clock’s secrets.”\\n\\nEleanor held the pendant tightly, feeling its pulse in her palm. “But why not reveal it? Why hide?”\\n\\n“The wish it grants is dangerous,” he warned. “Only pure intentions may succeed.”\\n\\nAs the stars cascaded across the sky, the townspeople watched in awe. Eleanor faced a choice—she could wish for the truth behind the artifacts or for the safety of the town. Remembering Mr. Hargrove's words, she raised the pendant high.\\n\\n“I wish for the safety of Eldridge Hollow!”\\n\\nThe pendant glowed brighter and shattered into a million sparkling shards, casting light everywhere. The mysterious figure of the keeper vanished, and so did the dark intentions of those lurking in the shadows.\\n\\nThe meteor shower rained down, showering the town with brilliance. Everyone was safe. Eleanor felt a warmth inside her; they would rebuild and protect their history together. The Vanishing Star had not granted riches or fame, but a promise—the wish of a protector for the town.\\n\\nAs dawn broke over Eldridge Hollow, Eleanor looked out at the clock tower, now silent but shimmering in the early light. She smiled, knowing that some mysteries are best left unsolved, especially when the truth is a treasure all its own.\"}, dynamic_config=None, messages=[{'role': 'user', 'content': \"Analyze the tone of this story: **The Vanishing Star**\\n\\nOn the quiet outskirts of the small town of Eldridge Hollow, a mysterious event had caught the attention of the townsfolk. Every twenty years, during the peak of the Perseid meteor shower, the town’s beloved antique clock tower chimed precisely at midnight, signaling the arrival of a rare celestial phenomenon: the Vanishing Star. Legend had it that whoever saw the star would be granted a single wish, but only if they could solve the riddle of the clock tower.\\n\\nAs the night of the meteor shower approached, excitement buzzed through the air. Eleanor, a tenacious young journalist with a penchant for mysteries, decided to investigate. She was intrigued not only by the legend but also by whispers of a recent series of unusual occurrences surrounding the clock tower—a series of stolen artifacts and a sudden disappearance of the town’s beloved historian, Mr. Hargrove.\\n\\nEleanor arrived at the clock tower just before midnight on the night of the meteor shower. The sky was clear, and the townspeople had gathered, their eyes glued to the heavens. She noticed an old, leather-bound book resting on a bench—a diary belonging to Mr. Hargrove. As she flipped through its pages, she was captivated by his detailed notes on the Vanishing Star. One entry stood out: “When the clock strikes twelve, the truth shall reveal itself. But the riddle lies with the keeper of time.”\\n\\nAn echoing clang reverberated through the night; it was midnight. The clock struck twelve, its hands frozen at the hour beneath a blanket of stars. Suddenly, the townspeople gasped. The clock tower’s face shimmered, and a blue light pulsed from within, painting the night sky.\\n\\nEleanor felt a chill as shadows danced around her. It was the keeper of time—the enigmatic figure said to be bound to the clock tower. Leaning close to inspect, she spotted a glint behind the clock’s gears. With a gasp, she uncovered a hidden compartment, revealing a magnificent jeweled star pendant and a note: “To the worthy, a choice; to the unworthy, a loss.”\\n\\nHer heart raced. This must have been the motive behind the recent thefts! Just then, a figure emerged from the shadows—it was Mr. Hargrove. Pale but alive. “You found it!” he said breathlessly. “I was trying to protect the pendant from a group intent on using its power for greed. They thought I could help them unlock the clock’s secrets.”\\n\\nEleanor held the pendant tightly, feeling its pulse in her palm. “But why not reveal it? Why hide?”\\n\\n“The wish it grants is dangerous,” he warned. “Only pure intentions may succeed.”\\n\\nAs the stars cascaded across the sky, the townspeople watched in awe. Eleanor faced a choice—she could wish for the truth behind the artifacts or for the safety of the town. Remembering Mr. Hargrove's words, she raised the pendant high.\\n\\n“I wish for the safety of Eldridge Hollow!”\\n\\nThe pendant glowed brighter and shattered into a million sparkling shards, casting light everywhere. The mysterious figure of the keeper vanished, and so did the dark intentions of those lurking in the shadows.\\n\\nThe meteor shower rained down, showering the town with brilliance. Everyone was safe. Eleanor felt a warmth inside her; they would rebuild and protect their history together. The Vanishing Star had not granted riches or fame, but a promise—the wish of a protector for the town.\\n\\nAs dawn broke over Eldridge Hollow, Eleanor looked out at the clock tower, now silent but shimmering in the early light. She smiled, knowing that some mysteries are best left unsolved, especially when the truth is a treasure all its own.\"}], call_params={}, call_kwargs={'model': 'gpt-4o-mini', 'messages': [{'role': 'user', 'content': \"Analyze the tone of this story: **The Vanishing Star**\\n\\nOn the quiet outskirts of the small town of Eldridge Hollow, a mysterious event had caught the attention of the townsfolk. Every twenty years, during the peak of the Perseid meteor shower, the town’s beloved antique clock tower chimed precisely at midnight, signaling the arrival of a rare celestial phenomenon: the Vanishing Star. Legend had it that whoever saw the star would be granted a single wish, but only if they could solve the riddle of the clock tower.\\n\\nAs the night of the meteor shower approached, excitement buzzed through the air. Eleanor, a tenacious young journalist with a penchant for mysteries, decided to investigate. She was intrigued not only by the legend but also by whispers of a recent series of unusual occurrences surrounding the clock tower—a series of stolen artifacts and a sudden disappearance of the town’s beloved historian, Mr. Hargrove.\\n\\nEleanor arrived at the clock tower just before midnight on the night of the meteor shower. The sky was clear, and the townspeople had gathered, their eyes glued to the heavens. She noticed an old, leather-bound book resting on a bench—a diary belonging to Mr. Hargrove. As she flipped through its pages, she was captivated by his detailed notes on the Vanishing Star. One entry stood out: “When the clock strikes twelve, the truth shall reveal itself. But the riddle lies with the keeper of time.”\\n\\nAn echoing clang reverberated through the night; it was midnight. The clock struck twelve, its hands frozen at the hour beneath a blanket of stars. Suddenly, the townspeople gasped. The clock tower’s face shimmered, and a blue light pulsed from within, painting the night sky.\\n\\nEleanor felt a chill as shadows danced around her. It was the keeper of time—the enigmatic figure said to be bound to the clock tower. Leaning close to inspect, she spotted a glint behind the clock’s gears. With a gasp, she uncovered a hidden compartment, revealing a magnificent jeweled star pendant and a note: “To the worthy, a choice; to the unworthy, a loss.”\\n\\nHer heart raced. This must have been the motive behind the recent thefts! Just then, a figure emerged from the shadows—it was Mr. Hargrove. Pale but alive. “You found it!” he said breathlessly. “I was trying to protect the pendant from a group intent on using its power for greed. They thought I could help them unlock the clock’s secrets.”\\n\\nEleanor held the pendant tightly, feeling its pulse in her palm. “But why not reveal it? Why hide?”\\n\\n“The wish it grants is dangerous,” he warned. “Only pure intentions may succeed.”\\n\\nAs the stars cascaded across the sky, the townspeople watched in awe. Eleanor faced a choice—she could wish for the truth behind the artifacts or for the safety of the town. Remembering Mr. Hargrove's words, she raised the pendant high.\\n\\n“I wish for the safety of Eldridge Hollow!”\\n\\nThe pendant glowed brighter and shattered into a million sparkling shards, casting light everywhere. The mysterious figure of the keeper vanished, and so did the dark intentions of those lurking in the shadows.\\n\\nThe meteor shower rained down, showering the town with brilliance. Everyone was safe. Eleanor felt a warmth inside her; they would rebuild and protect their history together. The Vanishing Star had not granted riches or fame, but a promise—the wish of a protector for the town.\\n\\nAs dawn broke over Eldridge Hollow, Eleanor looked out at the clock tower, now silent but shimmering in the early light. She smiled, knowing that some mysteries are best left unsolved, especially when the truth is a treasure all its own.\"}]}, user_message_param={'content': \"Analyze the tone of this story: **The Vanishing Star**\\n\\nOn the quiet outskirts of the small town of Eldridge Hollow, a mysterious event had caught the attention of the townsfolk. Every twenty years, during the peak of the Perseid meteor shower, the town’s beloved antique clock tower chimed precisely at midnight, signaling the arrival of a rare celestial phenomenon: the Vanishing Star. Legend had it that whoever saw the star would be granted a single wish, but only if they could solve the riddle of the clock tower.\\n\\nAs the night of the meteor shower approached, excitement buzzed through the air. Eleanor, a tenacious young journalist with a penchant for mysteries, decided to investigate. She was intrigued not only by the legend but also by whispers of a recent series of unusual occurrences surrounding the clock tower—a series of stolen artifacts and a sudden disappearance of the town’s beloved historian, Mr. Hargrove.\\n\\nEleanor arrived at the clock tower just before midnight on the night of the meteor shower. The sky was clear, and the townspeople had gathered, their eyes glued to the heavens. She noticed an old, leather-bound book resting on a bench—a diary belonging to Mr. Hargrove. As she flipped through its pages, she was captivated by his detailed notes on the Vanishing Star. One entry stood out: “When the clock strikes twelve, the truth shall reveal itself. But the riddle lies with the keeper of time.”\\n\\nAn echoing clang reverberated through the night; it was midnight. The clock struck twelve, its hands frozen at the hour beneath a blanket of stars. Suddenly, the townspeople gasped. The clock tower’s face shimmered, and a blue light pulsed from within, painting the night sky.\\n\\nEleanor felt a chill as shadows danced around her. It was the keeper of time—the enigmatic figure said to be bound to the clock tower. Leaning close to inspect, she spotted a glint behind the clock’s gears. With a gasp, she uncovered a hidden compartment, revealing a magnificent jeweled star pendant and a note: “To the worthy, a choice; to the unworthy, a loss.”\\n\\nHer heart raced. This must have been the motive behind the recent thefts! Just then, a figure emerged from the shadows—it was Mr. Hargrove. Pale but alive. “You found it!” he said breathlessly. “I was trying to protect the pendant from a group intent on using its power for greed. They thought I could help them unlock the clock’s secrets.”\\n\\nEleanor held the pendant tightly, feeling its pulse in her palm. “But why not reveal it? Why hide?”\\n\\n“The wish it grants is dangerous,” he warned. “Only pure intentions may succeed.”\\n\\nAs the stars cascaded across the sky, the townspeople watched in awe. Eleanor faced a choice—she could wish for the truth behind the artifacts or for the safety of the town. Remembering Mr. Hargrove's words, she raised the pendant high.\\n\\n“I wish for the safety of Eldridge Hollow!”\\n\\nThe pendant glowed brighter and shattered into a million sparkling shards, casting light everywhere. The mysterious figure of the keeper vanished, and so did the dark intentions of those lurking in the shadows.\\n\\nThe meteor shower rained down, showering the town with brilliance. Everyone was safe. Eleanor felt a warmth inside her; they would rebuild and protect their history together. The Vanishing Star had not granted riches or fame, but a promise—the wish of a protector for the town.\\n\\nAs dawn broke over Eldridge Hollow, Eleanor looked out at the clock tower, now silent but shimmering in the early light. She smiled, knowing that some mysteries are best left unsolved, especially when the truth is a treasure all its own.\", 'role': 'user'}, start_time=1726103253804.54, end_time=1726103256293.0652, message_param={'content': 'The tone of \"The Vanishing Star\" can be described as whimsical, suspenseful, and ultimately hopeful. \\n\\n1. **Whimsical**: The story contains elements of fantasy and mythology, particularly with the legend of the Vanishing Star and the magical aspects of the clock tower. The setting—a small town and its peculiar happenings—creates a sense of enchantment, inviting readers to immerse themselves in a world where wishes and celestial events hold significant meaning.\\n\\n2. **Suspenseful**: There is an underlying sense of mystery and tension throughout the narrative. Eleanor\\'s investigation into the recent thefts and the disappearance of Mr. Hargrove generates intrigue. The presence of the enigmatic figure, the keeper of time, further amplifies this suspense, especially as the clock strikes midnight and the countdown to the Vanishing Star’s appearance begins.\\n\\n3. **Hopeful**: The conclusion embodies a strong sense of hope and positivity. Eleanor\\'s selfless wish for the safety of her town, rather than for personal gain, underscores themes of community, protection, and the importance of pure intentions. The transformation of the pendant into sparkling shards serves as a metaphor for hope and renewal, suggesting that the real treasure lies not in material wealth but in the safety and unity of the town’s people.\\n\\nOverall, the story balances its elements of mystery and suspense with a hopeful resolution that emphasizes the strength of community and the value of selflessness. The tone effectively engages readers, drawing them into a narrative that is as much about individual choices and integrity as it is about the mystical events surrounding the Vanishing Star.', 'refusal': None, 'role': 'assistant', 'tool_calls': None}, tools=None, tool=None)}\n"
     ]
    }
   ],
   "execution_count": 6
  },
  {
   "cell_type": "markdown",
   "metadata": {},
   "source": [
    "In this example, we've combined dynamic configuration (using `computed_fields`) with a chain of operations (generate story → analyze tone → rewrite story). The `rewrite_story` function encapsulates this entire chain, allowing us to access all intermediate results in the final response. This approach provides several advantages:\n",
    "\n",
    "1. Simplicity: The entire chain is managed within a single function call.\n",
    "2. Traceability: All intermediate steps (original story, analyzed tone) are available in the computed fields, including the full response from `analyze_tone`.\n",
    "3. Flexibility: We can easily modify or extend the chain by adjusting the computed fields.\n",
    "\n",
    "This demonstrates the power of combining dynamic configuration with chaining using computed fields, providing a more integrated and manageable approach to complex LLM-based workflows."
   ]
  },
  {
   "cell_type": "markdown",
   "metadata": {},
   "source": [
    "### Error Handling in Chains\n",
    "\n",
    "Implementing robust error handling is crucial in complex chains."
   ]
  },
  {
   "cell_type": "code",
   "metadata": {
    "ExecuteTime": {
     "end_time": "2024-09-12T01:08:04.218737Z",
     "start_time": "2024-09-12T01:08:01.204558Z"
    }
   },
   "source": [
    "from openai import OpenAIError\n",
    "\n",
    "\n",
    "@openai.call(\"gpt-4o-mini\")\n",
    "@prompt_template(\"Summarize this text: {text}\")\n",
    "def summarize(text: str): ...\n",
    "\n",
    "\n",
    "@openai.call(\"gpt-4o-mini\")\n",
    "@prompt_template(\"Translate this text to {language}: {text}\")\n",
    "def translate(text: str, language: str): ...\n",
    "\n",
    "\n",
    "def process_text_with_error_handling(text: str, target_language: str):\n",
    "    try:\n",
    "        summary = summarize(text).content\n",
    "    except OpenAIError as e:\n",
    "        print(f\"Error during summarization: {e}\")\n",
    "        summary = text  # Fallback to original text if summarization fails\n",
    "\n",
    "    try:\n",
    "        translation = translate(summary, target_language).content\n",
    "        return translation\n",
    "    except OpenAIError as e:\n",
    "        print(f\"Error during translation: {e}\")\n",
    "        return summary  # Fallback to summary if translation fails\n",
    "\n",
    "\n",
    "result = process_text_with_error_handling(\"Long text here...\", \"French\")\n",
    "print(\"Processed Result:\", result)"
   ],
   "outputs": [
    {
     "name": "stdout",
     "output_type": "stream",
     "text": [
      "Processed Result: Bien sûr ! Veuillez fournir le texte que vous aimeriez que je résume.\n"
     ]
    }
   ],
   "execution_count": 7
  },
  {
   "cell_type": "markdown",
   "metadata": {},
   "source": [
    "## Conclusion\n",
    "\n",
    "This notebook has demonstrated various techniques for using Dynamic Configuration and Chaining in Mirascope. These powerful features allow you to create flexible, efficient, and complex LLM-powered applications. By combining these techniques, you can build sophisticated AI systems that can adapt to different inputs and requirements while maintaining robustness and traceability.\n",
    "\n",
    "Remember to always consider error handling, especially in complex chains, to ensure your applications are resilient to potential issues that may arise during LLM calls or processing steps."
   ]
  }
 ],
 "metadata": {
  "kernelspec": {
   "display_name": "Python 3 (ipykernel)",
   "language": "python",
   "name": "python3"
  },
  "language_info": {
   "name": "python"
  }
 },
 "nbformat": 4,
 "nbformat_minor": 2
}
