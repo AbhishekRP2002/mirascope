{
 "cells": [
  {
   "cell_type": "markdown",
   "id": "6fcff7e8de11a4b7",
   "metadata": {},
   "source": [
    "# Extracting from PDF: Guide to Extract Pages and Content from PDF Files\n",
    "\n",
    "This recipe demonstrates how to leverage Large Language Models (LLMs) -- specifically the OpenAI API -- to extract pages and content from PDF files. We'll cover single PDF document as well as multiple PDF files and also use OCR to extract text from scanned documents.\n",
    "\n",
    "<div class=\"admonition tip\">\n",
    "<p class=\"admonition-title\">Mirascope Concepts Used</p>\n",
    "<ul>\n",
    "<li><a href=\"../../../learn/prompts/\">Prompts</a></li>\n",
    "<li><a href=\"../../../learn/calls/\">Calls</a></li>\n",
    "<li><a href=\"../../../learn/response_models/\">Response Models</a></li>\n",
    "</ul>\n",
    "</div>\n",
    "\n",
    "<div class=\"admonition note\">\n",
    "<p class=\"admonition-title\">Background</p>\n",
    "<p>\n",
    "Prior to LLMs, extracting pages from pdf files has been a time-consuming and expensive task. Natural Language Processing (NLP) would be used to identify and categorize information in text specific to the PDF document, or worse yet manually by humans. This would need to happen on every new PDF with new categories, which is not scalable. LLMs possess the ability to understand context, and the versatility to handle diverse data beyond PDFs such as word documents, powerpoints, email, and more.\n",
    "</p>\n",
    "</div>\n",
    "\n",
    "\n",
    "## Setup\n",
    "\n",
    "To set up our environment, first let's install all of the packages we will use:\n",
    "\n"
   ]
  },
  {
   "cell_type": "code",
   "execution_count": 1,
   "id": "2b263ea11cdbfcaa",
   "metadata": {
    "ExecuteTime": {
     "end_time": "2024-09-30T12:00:42.634680Z",
     "start_time": "2024-09-30T12:00:39.116914Z"
    }
   },
   "outputs": [
    {
     "name": "stdout",
     "output_type": "stream",
     "text": [
      "Requirement already satisfied: mirascope[openai] in /Users/koudai/PycharmProjects/mirascope/.venv_notebook/lib/python3.12/site-packages (1.2.0)\r\n",
      "Requirement already satisfied: docstring-parser<1.0,>=0.15 in /Users/koudai/PycharmProjects/mirascope/.venv_notebook/lib/python3.12/site-packages (from mirascope[openai]) (0.16)\r\n",
      "Requirement already satisfied: jiter>=0.5.0 in /Users/koudai/PycharmProjects/mirascope/.venv_notebook/lib/python3.12/site-packages (from mirascope[openai]) (0.5.0)\r\n",
      "Requirement already satisfied: pydantic<3.0,>=2.7.4 in /Users/koudai/PycharmProjects/mirascope/.venv_notebook/lib/python3.12/site-packages (from mirascope[openai]) (2.8.2)\r\n",
      "Requirement already satisfied: typing-extensions>=4.10.0 in /Users/koudai/PycharmProjects/mirascope/.venv_notebook/lib/python3.12/site-packages (from mirascope[openai]) (4.12.2)\r\n",
      "Requirement already satisfied: openai<2,>=1.6.0 in /Users/koudai/PycharmProjects/mirascope/.venv_notebook/lib/python3.12/site-packages (from mirascope[openai]) (1.43.0)\r\n",
      "Requirement already satisfied: anyio<5,>=3.5.0 in /Users/koudai/PycharmProjects/mirascope/.venv_notebook/lib/python3.12/site-packages (from openai<2,>=1.6.0->mirascope[openai]) (4.4.0)\r\n",
      "Requirement already satisfied: distro<2,>=1.7.0 in /Users/koudai/PycharmProjects/mirascope/.venv_notebook/lib/python3.12/site-packages (from openai<2,>=1.6.0->mirascope[openai]) (1.9.0)\r\n",
      "Requirement already satisfied: httpx<1,>=0.23.0 in /Users/koudai/PycharmProjects/mirascope/.venv_notebook/lib/python3.12/site-packages (from openai<2,>=1.6.0->mirascope[openai]) (0.27.2)\r\n",
      "Requirement already satisfied: sniffio in /Users/koudai/PycharmProjects/mirascope/.venv_notebook/lib/python3.12/site-packages (from openai<2,>=1.6.0->mirascope[openai]) (1.3.1)\r\n",
      "Requirement already satisfied: tqdm>4 in /Users/koudai/PycharmProjects/mirascope/.venv_notebook/lib/python3.12/site-packages (from openai<2,>=1.6.0->mirascope[openai]) (4.66.5)\r\n",
      "Requirement already satisfied: annotated-types>=0.4.0 in /Users/koudai/PycharmProjects/mirascope/.venv_notebook/lib/python3.12/site-packages (from pydantic<3.0,>=2.7.4->mirascope[openai]) (0.7.0)\r\n",
      "Requirement already satisfied: pydantic-core==2.20.1 in /Users/koudai/PycharmProjects/mirascope/.venv_notebook/lib/python3.12/site-packages (from pydantic<3.0,>=2.7.4->mirascope[openai]) (2.20.1)\r\n",
      "Requirement already satisfied: idna>=2.8 in /Users/koudai/PycharmProjects/mirascope/.venv_notebook/lib/python3.12/site-packages (from anyio<5,>=3.5.0->openai<2,>=1.6.0->mirascope[openai]) (3.8)\r\n",
      "Requirement already satisfied: certifi in /Users/koudai/PycharmProjects/mirascope/.venv_notebook/lib/python3.12/site-packages (from httpx<1,>=0.23.0->openai<2,>=1.6.0->mirascope[openai]) (2024.8.30)\r\n",
      "Requirement already satisfied: httpcore==1.* in /Users/koudai/PycharmProjects/mirascope/.venv_notebook/lib/python3.12/site-packages (from httpx<1,>=0.23.0->openai<2,>=1.6.0->mirascope[openai]) (1.0.5)\r\n",
      "Requirement already satisfied: h11<0.15,>=0.13 in /Users/koudai/PycharmProjects/mirascope/.venv_notebook/lib/python3.12/site-packages (from httpcore==1.*->httpx<1,>=0.23.0->openai<2,>=1.6.0->mirascope[openai]) (0.14.0)\r\n",
      "Collecting PyMuPDF\r\n",
      "  Downloading PyMuPDF-1.24.10-cp312-none-macosx_11_0_arm64.whl.metadata (3.4 kB)\r\n",
      "Collecting PyMuPDFb==1.24.10 (from PyMuPDF)\r\n",
      "  Downloading PyMuPDFb-1.24.10-py3-none-macosx_11_0_arm64.whl.metadata (1.4 kB)\r\n",
      "Downloading PyMuPDF-1.24.10-cp312-none-macosx_11_0_arm64.whl (3.0 MB)\r\n",
      "\u001B[2K   \u001B[90m━━━━━━━━━━━━━━━━━━━━━━━━━━━━━━━━━━━━━━━━\u001B[0m \u001B[32m3.0/3.0 MB\u001B[0m \u001B[31m14.5 MB/s\u001B[0m eta \u001B[36m0:00:00\u001B[0ma \u001B[36m0:00:01\u001B[0m\r\n",
      "\u001B[?25hDownloading PyMuPDFb-1.24.10-py3-none-macosx_11_0_arm64.whl (15.1 MB)\r\n",
      "\u001B[2K   \u001B[90m━━━━━━━━━━━━━━━━━━━━━━━━━━━━━━━━━━━━━━━━\u001B[0m \u001B[32m15.1/15.1 MB\u001B[0m \u001B[31m18.3 MB/s\u001B[0m eta \u001B[36m0:00:00\u001B[0ma \u001B[36m0:00:01\u001B[0m\r\n",
      "\u001B[?25hInstalling collected packages: PyMuPDFb, PyMuPDF\r\n",
      "Successfully installed PyMuPDF-1.24.10 PyMuPDFb-1.24.10\r\n"
     ]
    }
   ],
   "source": [
    "!pip install \"mirascope[openai]\"\n",
    "!pip install PyMuPDF"
   ]
  },
  {
   "cell_type": "markdown",
   "id": "308d65255c9bb856",
   "metadata": {},
   "source": [
    "\n",
    "Make sure to also set your `OPENAI_API_KEY` if you haven't already.\n",
    "\n",
    "## Text-Based Extraction\n"
   ]
  },
  {
   "cell_type": "code",
   "execution_count": 2,
   "id": "4d630882b75a756",
   "metadata": {
    "ExecuteTime": {
     "end_time": "2024-09-30T12:02:48.661805Z",
     "start_time": "2024-09-30T12:02:47.454951Z"
    }
   },
   "outputs": [
    {
     "ename": "FileNotFoundError",
     "evalue": "no such file: 'resume.pdf'",
     "output_type": "error",
     "traceback": [
      "\u001B[0;31m---------------------------------------------------------------------------\u001B[0m",
      "\u001B[0;31mFileNotFoundError\u001B[0m                         Traceback (most recent call last)",
      "\u001B[0;32m/var/folders/1c/6xfc8h09781fp0zdndc007xh0000gn/T/ipykernel_21376/3938485393.py\u001B[0m in \u001B[0;36m?\u001B[0;34m()\u001B[0m\n\u001B[1;32m     41\u001B[0m     \u001B[0mtasks\u001B[0m \u001B[0;34m=\u001B[0m \u001B[0;34m[\u001B[0m\u001B[0mprocess_pdf\u001B[0m\u001B[0;34m(\u001B[0m\u001B[0mpdf_file_path\u001B[0m\u001B[0;34m)\u001B[0m \u001B[0;32mfor\u001B[0m \u001B[0mpdf_file_path\u001B[0m \u001B[0;32min\u001B[0m \u001B[0mpdf_file_paths\u001B[0m\u001B[0;34m]\u001B[0m\u001B[0;34m\u001B[0m\u001B[0;34m\u001B[0m\u001B[0m\n\u001B[1;32m     42\u001B[0m     \u001B[0;32mawait\u001B[0m \u001B[0masyncio\u001B[0m\u001B[0;34m.\u001B[0m\u001B[0mgather\u001B[0m\u001B[0;34m(\u001B[0m\u001B[0;34m*\u001B[0m\u001B[0mtasks\u001B[0m\u001B[0;34m)\u001B[0m\u001B[0;34m\u001B[0m\u001B[0;34m\u001B[0m\u001B[0m\n\u001B[1;32m     43\u001B[0m \u001B[0;34m\u001B[0m\u001B[0m\n\u001B[1;32m     44\u001B[0m \u001B[0;31m# In jupyter notebook to run an async function\u001B[0m\u001B[0;34m\u001B[0m\u001B[0;34m\u001B[0m\u001B[0m\n\u001B[0;32m---> 45\u001B[0;31m \u001B[0;32mawait\u001B[0m \u001B[0mrun\u001B[0m\u001B[0;34m(\u001B[0m\u001B[0;34m[\u001B[0m\u001B[0;34m\"resume.pdf\"\u001B[0m\u001B[0;34m]\u001B[0m\u001B[0;34m)\u001B[0m\u001B[0;34m\u001B[0m\u001B[0;34m\u001B[0m\u001B[0m\n\u001B[0m\u001B[1;32m     46\u001B[0m \u001B[0;34m\u001B[0m\u001B[0m\n\u001B[1;32m     47\u001B[0m \u001B[0;31m# In Python scripts to run an async function\u001B[0m\u001B[0;34m\u001B[0m\u001B[0;34m\u001B[0m\u001B[0m\n\u001B[1;32m     48\u001B[0m \u001B[0;31m# asyncio.run(run([\"resume.pdf\"]))\u001B[0m\u001B[0;34m\u001B[0m\u001B[0;34m\u001B[0m\u001B[0m\n",
      "\u001B[0;32m/var/folders/1c/6xfc8h09781fp0zdndc007xh0000gn/T/ipykernel_21376/3938485393.py\u001B[0m in \u001B[0;36m?\u001B[0;34m(pdf_file_paths)\u001B[0m\n\u001B[1;32m     40\u001B[0m \u001B[0;32masync\u001B[0m \u001B[0;32mdef\u001B[0m \u001B[0mrun\u001B[0m\u001B[0;34m(\u001B[0m\u001B[0mpdf_file_paths\u001B[0m\u001B[0;34m:\u001B[0m \u001B[0mlist\u001B[0m\u001B[0;34m[\u001B[0m\u001B[0mstr\u001B[0m\u001B[0;34m]\u001B[0m\u001B[0;34m)\u001B[0m\u001B[0;34m:\u001B[0m\u001B[0;34m\u001B[0m\u001B[0;34m\u001B[0m\u001B[0m\n\u001B[1;32m     41\u001B[0m     \u001B[0mtasks\u001B[0m \u001B[0;34m=\u001B[0m \u001B[0;34m[\u001B[0m\u001B[0mprocess_pdf\u001B[0m\u001B[0;34m(\u001B[0m\u001B[0mpdf_file_path\u001B[0m\u001B[0;34m)\u001B[0m \u001B[0;32mfor\u001B[0m \u001B[0mpdf_file_path\u001B[0m \u001B[0;32min\u001B[0m \u001B[0mpdf_file_paths\u001B[0m\u001B[0;34m]\u001B[0m\u001B[0;34m\u001B[0m\u001B[0;34m\u001B[0m\u001B[0m\n\u001B[0;32m---> 42\u001B[0;31m     \u001B[0;32mawait\u001B[0m \u001B[0masyncio\u001B[0m\u001B[0;34m.\u001B[0m\u001B[0mgather\u001B[0m\u001B[0;34m(\u001B[0m\u001B[0;34m*\u001B[0m\u001B[0mtasks\u001B[0m\u001B[0;34m)\u001B[0m\u001B[0;34m\u001B[0m\u001B[0;34m\u001B[0m\u001B[0m\n\u001B[0m",
      "\u001B[0;32m/var/folders/1c/6xfc8h09781fp0zdndc007xh0000gn/T/ipykernel_21376/3938485393.py\u001B[0m in \u001B[0;36m?\u001B[0;34m(pdf_file_path)\u001B[0m\n\u001B[1;32m     35\u001B[0m \u001B[0;32masync\u001B[0m \u001B[0;32mdef\u001B[0m \u001B[0mprocess_pdf\u001B[0m\u001B[0;34m(\u001B[0m\u001B[0mpdf_file_path\u001B[0m\u001B[0;34m:\u001B[0m \u001B[0mstr\u001B[0m\u001B[0;34m)\u001B[0m \u001B[0;34m->\u001B[0m \u001B[0mResumeInfo\u001B[0m\u001B[0;34m:\u001B[0m\u001B[0;34m\u001B[0m\u001B[0;34m\u001B[0m\u001B[0m\n\u001B[0;32m---> 36\u001B[0;31m     \u001B[0mpdf_text\u001B[0m \u001B[0;34m=\u001B[0m \u001B[0;32mawait\u001B[0m \u001B[0mconvert_pdf_to_text\u001B[0m\u001B[0;34m(\u001B[0m\u001B[0mpdf_file_path\u001B[0m\u001B[0;34m)\u001B[0m\u001B[0;34m\u001B[0m\u001B[0;34m\u001B[0m\u001B[0m\n\u001B[0m\u001B[1;32m     37\u001B[0m     \u001B[0;32mreturn\u001B[0m \u001B[0;32mawait\u001B[0m \u001B[0mextract_resume_info\u001B[0m\u001B[0;34m(\u001B[0m\u001B[0mpdf_text\u001B[0m\u001B[0;34m)\u001B[0m\u001B[0;34m\u001B[0m\u001B[0;34m\u001B[0m\u001B[0m\n",
      "\u001B[0;32m/var/folders/1c/6xfc8h09781fp0zdndc007xh0000gn/T/ipykernel_21376/3938485393.py\u001B[0m in \u001B[0;36m?\u001B[0;34m(pdf_file_path)\u001B[0m\n\u001B[1;32m     27\u001B[0m \u001B[0;32masync\u001B[0m \u001B[0;32mdef\u001B[0m \u001B[0mconvert_pdf_to_text\u001B[0m\u001B[0;34m(\u001B[0m\u001B[0mpdf_file_path\u001B[0m\u001B[0;34m:\u001B[0m \u001B[0mstr\u001B[0m\u001B[0;34m)\u001B[0m \u001B[0;34m->\u001B[0m \u001B[0mstr\u001B[0m\u001B[0;34m:\u001B[0m\u001B[0;34m\u001B[0m\u001B[0;34m\u001B[0m\u001B[0m\n\u001B[0;32m---> 28\u001B[0;31m     \u001B[0mdoc\u001B[0m \u001B[0;34m=\u001B[0m \u001B[0mfitz\u001B[0m\u001B[0;34m.\u001B[0m\u001B[0mopen\u001B[0m\u001B[0;34m(\u001B[0m\u001B[0mpdf_file_path\u001B[0m\u001B[0;34m,\u001B[0m \u001B[0mfiletype\u001B[0m\u001B[0;34m=\u001B[0m\u001B[0;34m\"pdf\"\u001B[0m\u001B[0;34m)\u001B[0m\u001B[0;34m\u001B[0m\u001B[0;34m\u001B[0m\u001B[0m\n\u001B[0m\u001B[1;32m     29\u001B[0m     \u001B[0mtext\u001B[0m \u001B[0;34m=\u001B[0m \u001B[0;34m[\u001B[0m\u001B[0;34m]\u001B[0m\u001B[0;34m\u001B[0m\u001B[0;34m\u001B[0m\u001B[0m\n\u001B[1;32m     30\u001B[0m     \u001B[0;32mfor\u001B[0m \u001B[0mpage\u001B[0m \u001B[0;32min\u001B[0m \u001B[0mdoc\u001B[0m\u001B[0;34m:\u001B[0m\u001B[0;34m\u001B[0m\u001B[0;34m\u001B[0m\u001B[0m\n\u001B[1;32m     31\u001B[0m         \u001B[0mtext\u001B[0m\u001B[0;34m.\u001B[0m\u001B[0mappend\u001B[0m\u001B[0;34m(\u001B[0m\u001B[0mpage\u001B[0m\u001B[0;34m.\u001B[0m\u001B[0mget_text\u001B[0m\u001B[0;34m(\u001B[0m\u001B[0;34m)\u001B[0m\u001B[0;34m)\u001B[0m  \u001B[0;31m# type: ignore\u001B[0m\u001B[0;34m\u001B[0m\u001B[0;34m\u001B[0m\u001B[0m\n",
      "\u001B[0;32m~/PycharmProjects/mirascope/.venv_notebook/lib/python3.12/site-packages/pymupdf/__init__.py\u001B[0m in \u001B[0;36m?\u001B[0;34m(self, filename, stream, filetype, rect, width, height, fontsize)\u001B[0m\n\u001B[1;32m   2898\u001B[0m                     \u001B[0mself\u001B[0m\u001B[0;34m.\u001B[0m\u001B[0mpage_count2\u001B[0m \u001B[0;34m=\u001B[0m \u001B[0mextra\u001B[0m\u001B[0;34m.\u001B[0m\u001B[0mpage_count_pdf\u001B[0m\u001B[0;34m\u001B[0m\u001B[0;34m\u001B[0m\u001B[0m\n\u001B[1;32m   2899\u001B[0m                 \u001B[0;32melse\u001B[0m\u001B[0;34m:\u001B[0m\u001B[0;34m\u001B[0m\u001B[0;34m\u001B[0m\u001B[0m\n\u001B[1;32m   2900\u001B[0m                     \u001B[0mself\u001B[0m\u001B[0;34m.\u001B[0m\u001B[0mpage_count2\u001B[0m \u001B[0;34m=\u001B[0m \u001B[0mextra\u001B[0m\u001B[0;34m.\u001B[0m\u001B[0mpage_count_fz\u001B[0m\u001B[0;34m\u001B[0m\u001B[0;34m\u001B[0m\u001B[0m\n\u001B[1;32m   2901\u001B[0m         \u001B[0;32mfinally\u001B[0m\u001B[0;34m:\u001B[0m\u001B[0;34m\u001B[0m\u001B[0;34m\u001B[0m\u001B[0m\n\u001B[0;32m-> 2902\u001B[0;31m             \u001B[0mJM_mupdf_show_errors\u001B[0m \u001B[0;34m=\u001B[0m \u001B[0mJM_mupdf_show_errors_old\u001B[0m\u001B[0;34m\u001B[0m\u001B[0;34m\u001B[0m\u001B[0m\n\u001B[0m",
      "\u001B[0;31mFileNotFoundError\u001B[0m: no such file: 'resume.pdf'"
     ]
    }
   ],
   "source": [
    "import asyncio\n",
    "\n",
    "from pydantic import BaseModel, Field\n",
    "\n",
    "from mirascope.core import openai, prompt_template\n",
    "\n",
    "\n",
    "class ResumeInfo(BaseModel):\n",
    "    name: str = Field(..., description=\"The name of the person\")\n",
    "    email: str = Field(..., description=\"The email of the person\")\n",
    "    phone: str = Field(..., description=\"The phone number of the person\")\n",
    "    skills: list[str] = Field(..., description=\"The skills of the person\")\n",
    "    experience: list[str] = Field(..., description=\"The experience of the person\")\n",
    "    education: list[str] = Field(..., description=\"The education of the person\")\n",
    "\n",
    "\n",
    "@openai.call(model=\"gpt-4o\", response_model=ResumeInfo)\n",
    "@prompt_template(\n",
    "    \"\"\"\n",
    "    Extract the resume information from the pdf file.\n",
    "    {pdf_text}\n",
    "    \"\"\"\n",
    ")\n",
    "async def extract_resume_info(pdf_text: str): ...\n",
    "\n",
    "\n",
    "async def convert_pdf_to_text(pdf_file_path: str) -> str:\n",
    "    doc = fitz.open(pdf_file_path, filetype=\"pdf\")\n",
    "    text = []\n",
    "    for page in doc:\n",
    "        text.append(page.get_text())  # type: ignore\n",
    "    return \"\\n\".join(text)\n",
    "\n",
    "\n",
    "async def process_pdf(pdf_file_path: str) -> ResumeInfo:\n",
    "    pdf_text = await convert_pdf_to_text(pdf_file_path)\n",
    "    return await extract_resume_info(pdf_text)\n",
    "\n",
    "\n",
    "async def run(pdf_file_paths: list[str]):\n",
    "    tasks = [process_pdf(pdf_file_path) for pdf_file_path in pdf_file_paths]\n",
    "    await asyncio.gather(*tasks)\n",
    "\n",
    "\n",
    "# In jupyter notebook to run an async function\n",
    "await run([\"resume.pdf\"])\n",
    "\n",
    "# In Python scripts to run an async function\n",
    "# asyncio.run(run([\"resume.pdf\"]))"
   ]
  },
  {
   "cell_type": "markdown",
   "id": "a868a8bc95e8041c",
   "metadata": {},
   "source": [
    "\n",
    "This script takes in multiple text PDF documents and extracts them into a `ResumeInfo` Pydantic model. However, PDF documents contain not only text but images, tables, and more. In order to handle these more complex documents, we use Optical Character Recognition (OCR).\n",
    "\n",
    "## Vision-Based Extraction\n",
    "\n",
    "For PDFs with complex layouts or embedded images, vision-based extraction can be more effective. We first write a helper function that uses `PyMuPDF` to convert the PDF document into a PNG image:\n"
   ]
  },
  {
   "cell_type": "code",
   "execution_count": null,
   "id": "50c2e63090c31fae",
   "metadata": {},
   "outputs": [],
   "source": [
    "import fitz\n",
    "\n",
    "\n",
    "async def convert_pdf_to_png(pdf_file_path: str) -> list[bytes]:\n",
    "    doc = fitz.open(pdf_file_path, filetype=\"pdf\")\n",
    "    images = []\n",
    "    for page_num in range(len(doc)):\n",
    "        page = doc.load_page(page_num)\n",
    "        pix = page.get_pixmap()\n",
    "        images.append(pix.tobytes(output=\"png\"))\n",
    "    return images"
   ]
  },
  {
   "cell_type": "markdown",
   "id": "b7fddaaf4ec8997c",
   "metadata": {},
   "source": "Afterwards, we update our previously defined call function to take in image bytes and run:"
  },
  {
   "cell_type": "code",
   "execution_count": null,
   "id": "761a2aae6990375f",
   "metadata": {},
   "outputs": [],
   "source": [
    "from mirascope.core import openai, prompt_template\n",
    "\n",
    "\n",
    "@openai.call(model=\"gpt-4o-mini\", response_model=ResumeInfo)\n",
    "@prompt_template(\n",
    "    \"\"\"\n",
    "    Extract the resume information from the pdf file.\n",
    "    {pdf_imgs::images}\n",
    "    \"\"\"\n",
    ")\n",
    "async def extract_resume_info_as_image(pdf_imgs: list[bytes]): ...\n",
    "\n",
    "\n",
    "async def process_pdf_as_image(pdf_file_path: str) -> ResumeInfo:\n",
    "    pdf_pngs = await convert_pdf_to_png(pdf_file_path)\n",
    "    return await extract_resume_info_as_image(pdf_pngs)\n",
    "\n",
    "\n",
    "# In jupyter notebook to run an async function\n",
    "await process_pdf_as_image(\"resume.pdf\")\n",
    "\n",
    "# In Python scripts to run an async function\n",
    "# asyncio.run(process_pdf_as_image(\"resume.pdf\"))"
   ]
  },
  {
   "cell_type": "markdown",
   "id": "b879c67813c227c9",
   "metadata": {},
   "source": [
    "\n",
    "This approach converts the PDF to images, allowing the AI model to analyze the visual layout and content. It's particularly useful for PDFs with non-standard layouts or those containing charts and diagrams.\n",
    "\n",
    "Not all providers support vision, so be sure to check provider documentation.\n",
    "\n",
    "<div class=\"admonition tip\">\n",
    "<p class=\"admonition-title\">Additional Real-World Examples</p>\n",
    "<ul>\n",
    "<li><b>Automating document processing</b>: Take invoices, statements, tax-forms, etc and other manual data entry tasks and automate them.</li>\n",
    "<li><b>Medical Document Integrations</b>: Extract patient records, often a PDF document into Electronic Health Record (EHR) systems.</li>\n",
    "<li><b>Resume Parsing Advanced</b>: Update the <code>ResumeInfo</code> schema to a format for a Customer Relationship Management (CRM) tool.</li>\n",
    "</ul>\n",
    "</div>\n",
    "\n",
    "When adapting this recipe to your specific use-case, consider the following:\n",
    "\n",
    "    - OCR accuracy: For better OCR results when using Vision-based extraction, use high-quality scans.\n",
    "    - Multiple providers: Use multiple LLM providers to verify whether the extracted information is accurate and not hallucination.\n",
    "    - Implement Pydantic `ValidationError` and Tenacity `retry` to improve reliability and accuracy.\n"
   ]
  }
 ],
 "metadata": {
  "kernelspec": {
   "display_name": "Python 3",
   "language": "python",
   "name": "python3"
  },
  "language_info": {
   "codemirror_mode": {
    "name": "ipython",
    "version": 2
   },
   "file_extension": ".py",
   "mimetype": "text/x-python",
   "name": "python",
   "nbconvert_exporter": "python",
   "pygments_lexer": "ipython2",
   "version": "2.7.6"
  }
 },
 "nbformat": 4,
 "nbformat_minor": 5
}
